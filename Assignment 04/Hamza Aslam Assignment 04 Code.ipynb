{
 "cells": [
  {
   "cell_type": "markdown",
   "id": "898d032c-fc86-4147-92c3-373a9bdb65b6",
   "metadata": {},
   "source": [
    "# ....................................Genztechs...........................................\n",
    "# ...................................Assignment 4.......................................\n",
    "# ...............................Data Science Internship.........................\n",
    "# ....................................Hamza Aslam......................................."
   ]
  },
  {
   "cell_type": "markdown",
   "id": "36239620-ff45-4d08-b582-f10c587d159c",
   "metadata": {},
   "source": [
    "### 1. Arithmetic Mean"
   ]
  },
  {
   "cell_type": "code",
   "execution_count": 1,
   "id": "91b3dae3-c478-4c1f-8366-f628a4b2cb5e",
   "metadata": {},
   "outputs": [],
   "source": [
    "import pandas as pd\n",
    "import numpy as np\n",
    "import matplotlib.pyplot as plt\n",
    "from scipy.stats import trim_mean, mode\n",
    "from sklearn.linear_model import LinearRegression \n",
    "import seaborn as sns\n",
    "import statistics"
   ]
  },
  {
   "cell_type": "code",
   "execution_count": 40,
   "id": "4624bc9e-83f5-413c-95f2-3a2ad4c99d6c",
   "metadata": {},
   "outputs": [
    {
     "data": {
      "text/html": [
       "<div>\n",
       "<style scoped>\n",
       "    .dataframe tbody tr th:only-of-type {\n",
       "        vertical-align: middle;\n",
       "    }\n",
       "\n",
       "    .dataframe tbody tr th {\n",
       "        vertical-align: top;\n",
       "    }\n",
       "\n",
       "    .dataframe thead th {\n",
       "        text-align: right;\n",
       "    }\n",
       "</style>\n",
       "<table border=\"1\" class=\"dataframe\">\n",
       "  <thead>\n",
       "    <tr style=\"text-align: right;\">\n",
       "      <th></th>\n",
       "      <th>total_bill</th>\n",
       "      <th>tip</th>\n",
       "      <th>sex</th>\n",
       "      <th>smoker</th>\n",
       "      <th>day</th>\n",
       "      <th>time</th>\n",
       "      <th>size</th>\n",
       "    </tr>\n",
       "  </thead>\n",
       "  <tbody>\n",
       "    <tr>\n",
       "      <th>0</th>\n",
       "      <td>16.99</td>\n",
       "      <td>1.01</td>\n",
       "      <td>Female</td>\n",
       "      <td>No</td>\n",
       "      <td>Sun</td>\n",
       "      <td>Dinner</td>\n",
       "      <td>2</td>\n",
       "    </tr>\n",
       "    <tr>\n",
       "      <th>1</th>\n",
       "      <td>10.34</td>\n",
       "      <td>1.66</td>\n",
       "      <td>Male</td>\n",
       "      <td>No</td>\n",
       "      <td>Sun</td>\n",
       "      <td>Dinner</td>\n",
       "      <td>3</td>\n",
       "    </tr>\n",
       "    <tr>\n",
       "      <th>2</th>\n",
       "      <td>21.01</td>\n",
       "      <td>3.50</td>\n",
       "      <td>Male</td>\n",
       "      <td>No</td>\n",
       "      <td>Sun</td>\n",
       "      <td>Dinner</td>\n",
       "      <td>3</td>\n",
       "    </tr>\n",
       "    <tr>\n",
       "      <th>3</th>\n",
       "      <td>23.68</td>\n",
       "      <td>3.31</td>\n",
       "      <td>Male</td>\n",
       "      <td>No</td>\n",
       "      <td>Sun</td>\n",
       "      <td>Dinner</td>\n",
       "      <td>2</td>\n",
       "    </tr>\n",
       "    <tr>\n",
       "      <th>4</th>\n",
       "      <td>24.59</td>\n",
       "      <td>3.61</td>\n",
       "      <td>Female</td>\n",
       "      <td>No</td>\n",
       "      <td>Sun</td>\n",
       "      <td>Dinner</td>\n",
       "      <td>4</td>\n",
       "    </tr>\n",
       "  </tbody>\n",
       "</table>\n",
       "</div>"
      ],
      "text/plain": [
       "   total_bill   tip     sex smoker  day    time  size\n",
       "0       16.99  1.01  Female     No  Sun  Dinner     2\n",
       "1       10.34  1.66    Male     No  Sun  Dinner     3\n",
       "2       21.01  3.50    Male     No  Sun  Dinner     3\n",
       "3       23.68  3.31    Male     No  Sun  Dinner     2\n",
       "4       24.59  3.61  Female     No  Sun  Dinner     4"
      ]
     },
     "execution_count": 40,
     "metadata": {},
     "output_type": "execute_result"
    }
   ],
   "source": [
    "data = sns.load_dataset(\"tips\")\n",
    "data.head()"
   ]
  },
  {
   "cell_type": "code",
   "execution_count": 41,
   "id": "350c9eed-d5ee-4581-8d85-1161e39cddb1",
   "metadata": {
    "scrolled": true
   },
   "outputs": [
    {
     "name": "stdout",
     "output_type": "stream",
     "text": [
      "Arithmetic Mean:\n",
      "19.78594262295082\n"
     ]
    }
   ],
   "source": [
    "# Read the CSV file\n",
    "# data = pd.read_csv('/content/numbers.csv') \n",
    "# Calculate Arithmetic Mean \n",
    "arithmetic_mean = data['total_bill'].mean() \n",
    "print(\"Arithmetic Mean:\") \n",
    "print(arithmetic_mean)"
   ]
  },
  {
   "cell_type": "markdown",
   "id": "6728c8a0-f2bf-41ea-b9ff-a5be966da443",
   "metadata": {},
   "source": [
    "### 2. Weighted Mean"
   ]
  },
  {
   "cell_type": "code",
   "execution_count": 42,
   "id": "ed51d5f6-4131-498e-b8c9-c239666c6ae9",
   "metadata": {},
   "outputs": [
    {
     "name": "stdout",
     "output_type": "stream",
     "text": [
      "Weighted Mean:\n",
      "[ 2.  6. 10.]\n"
     ]
    }
   ],
   "source": [
    "data = np.array([[1, 2, 3],\n",
    "                 [5, 6, 7],\n",
    "                 [9, 10, 11]])\n",
    "weights = [0.3, 0.4, 0.3] # Example weights for each column \n",
    "weighted_mean = np.average(data, weights=weights, axis=1) \n",
    "print(\"Weighted Mean:\")\n",
    "print(weighted_mean)"
   ]
  },
  {
   "cell_type": "markdown",
   "id": "519721d2-8daa-4cf9-b4a9-5a870000ac8a",
   "metadata": {},
   "source": [
    "### 3. Trimmed Mean"
   ]
  },
  {
   "cell_type": "code",
   "execution_count": 43,
   "id": "5b89db97-c50a-4c8c-8eeb-13975f4a77b1",
   "metadata": {},
   "outputs": [
    {
     "data": {
      "text/plain": [
       "array([5., 6., 7.])"
      ]
     },
     "execution_count": 43,
     "metadata": {},
     "output_type": "execute_result"
    }
   ],
   "source": [
    "trimmed_mean = trim_mean(data, proportiontocut=0.1)\n",
    "trimmed_mean"
   ]
  },
  {
   "cell_type": "markdown",
   "id": "7b00a6df-31e2-4182-8187-bdce18681ffb",
   "metadata": {},
   "source": [
    "### 4. Median"
   ]
  },
  {
   "cell_type": "code",
   "execution_count": 44,
   "id": "2925066e-1630-4424-b799-b66663816b2c",
   "metadata": {},
   "outputs": [
    {
     "name": "stdout",
     "output_type": "stream",
     "text": [
      "Median:\n",
      "16.0\n"
     ]
    }
   ],
   "source": [
    "# Calculate Median \n",
    "x = [2, 5, 8, 11, 14, 18, 21, 22, 25, 30]\n",
    "median = np.median(x) \n",
    "print(\"Median:\") \n",
    "print(median)"
   ]
  },
  {
   "cell_type": "markdown",
   "id": "7e039d4c-31c6-40b2-bd6b-54c9ae79e9e0",
   "metadata": {},
   "source": [
    "### 5. Mode"
   ]
  },
  {
   "cell_type": "code",
   "execution_count": 45,
   "id": "e436d3f9-0a25-41f3-9eaa-a9a2c3ea3a8f",
   "metadata": {},
   "outputs": [
    {
     "name": "stdout",
     "output_type": "stream",
     "text": [
      "Mode:\n",
      "2\n"
     ]
    }
   ],
   "source": [
    "# Read the CSV file\n",
    "# data = pd.read_csv('/content/numbers.csv') # Replace with the actual file path \n",
    "# Calculate Mode\n",
    "mode_values = statistics.mode(x)\n",
    "print(\"Mode:\")\n",
    "print(mode_values)"
   ]
  },
  {
   "cell_type": "markdown",
   "id": "bcb0bbb0-fe73-48b3-a5a8-136ddd1fc870",
   "metadata": {},
   "source": [
    "### 6. Standard Deviation"
   ]
  },
  {
   "cell_type": "code",
   "execution_count": 46,
   "id": "4e52d16e-f50e-4c49-98fc-5fa125e41fe0",
   "metadata": {},
   "outputs": [
    {
     "name": "stdout",
     "output_type": "stream",
     "text": [
      "Standard Deviation:\n",
      "8.662563131083086\n"
     ]
    }
   ],
   "source": [
    "std_dev = np.std(x) \n",
    "print(\"Standard Deviation:\") \n",
    "print(std_dev)"
   ]
  },
  {
   "cell_type": "markdown",
   "id": "56e67fa4-cf54-4614-9824-9df80ce7d642",
   "metadata": {},
   "source": [
    "### 7. Regression and Correlation"
   ]
  },
  {
   "cell_type": "code",
   "execution_count": 47,
   "id": "e6413410-0c7b-4cb3-ad7e-6d83ecf74607",
   "metadata": {},
   "outputs": [
    {
     "name": "stdout",
     "output_type": "stream",
     "text": [
      "Regression Line: y = 2.0000000000000004 * x + -1.7763568394002505e-15\n",
      "Correlation Coefficient:\n",
      "1.0\n"
     ]
    }
   ],
   "source": [
    "# Dummy Data\n",
    "data = pd.DataFrame({\n",
    "    'x': [1, 2, 3, 4, 5],  # Independent variable\n",
    "    'y': [2, 4, 6, 8, 10]  # Dependent variable\n",
    "})\n",
    "x = data.iloc[:, 0] # Assuming the first column is the independent variable\n",
    "y = data.iloc[:, 1] # Assuming the second column is the dependent variable\n",
    "regression_model = LinearRegression() \n",
    "regression_model.fit(x.values.reshape(-1, 1), y) \n",
    "slope = regression_model.coef_[0]\n",
    "intercept = regression_model.intercept_ \n",
    "print(\"Regression Line: y =\", slope, \"* x +\", intercept) \n",
    "correlation_coefficient = data.corr().iloc[0, 1] \n",
    "print(\"Correlation Coefficient:\") \n",
    "print(correlation_coefficient)\n"
   ]
  },
  {
   "cell_type": "markdown",
   "id": "c51add2f-f058-4c03-b79e-4261e8549200",
   "metadata": {},
   "source": [
    "### 8. Box Plot"
   ]
  },
  {
   "cell_type": "code",
   "execution_count": 48,
   "id": "7f3db256-f8ba-45c1-853d-29d97f9bc4fa",
   "metadata": {},
   "outputs": [
    {
     "data": {
      "image/png": "[encoded data removed]",
      "text/plain": [
       "<Figure size 640x480 with 1 Axes>"
      ]
     },
     "metadata": {},
     "output_type": "display_data"
    }
   ],
   "source": [
    "# Load the CSV file\n",
    "df = sns.load_dataset(\"tips\")\n",
    "# Create a box plot\n",
    "sns.boxplot(data=df,x=\"sex\",y=\"total_bill\",hue=\"sex\")\n",
    "plt.title('Box Plot') \n",
    "plt.show()"
   ]
  },
  {
   "cell_type": "markdown",
   "id": "29cf98ff-0dff-4301-9b97-c5cec3ef81ad",
   "metadata": {},
   "source": [
    "### 9. Euclidean distance"
   ]
  },
  {
   "cell_type": "code",
   "execution_count": 49,
   "id": "910edc22-69a5-450f-ae4d-bf098409ee5a",
   "metadata": {},
   "outputs": [
    {
     "name": "stdout",
     "output_type": "stream",
     "text": [
      "Euclidean Distance: 5.196152422706632\n"
     ]
    }
   ],
   "source": [
    "import numpy as np\n",
    "from scipy.spatial.distance import euclidean\n",
    "def calculate_euclidean_distance(vector1, vector2): \n",
    "    return euclidean(vector1, vector2)\n",
    "# Example usage\n",
    "vector_a = np.array([1, 2, 3])\n",
    "vector_b = np.array([4, 5, 6])\n",
    "# Calculate Euclidean distance\n",
    "euclidean_distance = calculate_euclidean_distance(vector_a, vector_b)\n",
    "# Print the result\n",
    "print(\"Euclidean Distance:\", euclidean_distance)\n",
    "# Euclidean Distance: 5.196152422706632"
   ]
  },
  {
   "cell_type": "markdown",
   "id": "d01c9a73-40cb-4567-8cb1-1dee5ae468eb",
   "metadata": {},
   "source": [
    "### 10.Z Score"
   ]
  },
  {
   "cell_type": "code",
   "execution_count": 51,
   "id": "8e2d06e2-062b-4d90-b4a6-4e5992badcec",
   "metadata": {},
   "outputs": [
    {
     "name": "stdout",
     "output_type": "stream",
     "text": [
      "Z-Scores:\n",
      "   Column 1  Column 2  Column 3\n",
      "0 -1.414214 -1.414214 -1.414214\n",
      "1 -0.707107 -0.707107 -0.707107\n",
      "2  0.000000  0.000000  0.000000\n",
      "3  0.707107  0.707107  0.707107\n",
      "4  1.414214  1.414214  1.414214\n"
     ]
    }
   ],
   "source": [
    "from scipy.stats import zscore\n",
    "# Read the CSV file\n",
    "data = pd.read_csv('z_scores.csv') \n",
    "# Calculate z-scores\n",
    "z_scores = data.apply(zscore) \n",
    "print(\"Z-Scores:\")\n",
    "print(z_scores)"
   ]
  },
  {
   "cell_type": "markdown",
   "id": "a5fd3846-2a0b-419d-8280-88730561699b",
   "metadata": {},
   "source": [
    "### 11.Manhatan Distance"
   ]
  },
  {
   "cell_type": "code",
   "execution_count": 52,
   "id": "bd2d0df7-eb41-4d7b-ab5e-bdbc8780f3de",
   "metadata": {},
   "outputs": [
    {
     "name": "stdout",
     "output_type": "stream",
     "text": [
      "Manhattan Distance Matrix:\n",
      "[[0.         2.12132034 4.24264069 6.36396103 8.48528137]\n",
      " [2.12132034 0.         2.12132034 4.24264069 6.36396103]\n",
      " [4.24264069 2.12132034 0.         2.12132034 4.24264069]\n",
      " [6.36396103 4.24264069 2.12132034 0.         2.12132034]\n",
      " [8.48528137 6.36396103 4.24264069 2.12132034 0.        ]]\n"
     ]
    }
   ],
   "source": [
    "from scipy.spatial.distance import pdist,squareform\n",
    "# Read the CSV file\n",
    "data = pd.read_csv('z_scores.csv') \n",
    "# Calculate Manhattan distance matrix\n",
    "manhattan_dist = pdist(data, metric='cityblock') \n",
    "manhattan_dist_matrix = squareform(manhattan_dist) \n",
    "# Print the distance matrix\n",
    "print(\"Manhattan Distance Matrix:\") \n",
    "print(manhattan_dist_matrix) "
   ]
  },
  {
   "cell_type": "markdown",
   "id": "57ea79ec-18d2-4259-ac01-634ea707b07d",
   "metadata": {},
   "source": [
    "### 12.Minkowski distance"
   ]
  },
  {
   "cell_type": "code",
   "execution_count": 3,
   "id": "4c33c2c2-7ecb-4a39-9547-8aebea1b991b",
   "metadata": {
    "scrolled": true
   },
   "outputs": [
    {
     "name": "stdout",
     "output_type": "stream",
     "text": [
      "Minkowski Distance Matrix:\n",
      "[[0.         1.22474487 2.44948974 3.67423461 4.89897949]\n",
      " [1.22474487 0.         1.22474487 2.44948974 3.67423461]\n",
      " [2.44948974 1.22474487 0.         1.22474487 2.44948974]\n",
      " [3.67423461 2.44948974 1.22474487 0.         1.22474487]\n",
      " [4.89897949 3.67423461 2.44948974 1.22474487 0.        ]]\n"
     ]
    }
   ],
   "source": [
    "from scipy.spatial.distance import cdist \n",
    "from scipy.spatial.distance import cdist \n",
    "# Read the CSV file\n",
    "data = pd.read_csv('z_scores.csv') \n",
    "# Calculate Minkowski distance matrix\n",
    "p = 2 # Choose the desired order of Minkowski distance (p=1 for Manhattan distance, p=2 for Euclidean distance)\n",
    "minkowski_dist = cdist(data, data, metric='minkowski', p=p) \n",
    "# Print the distance matrix\n",
    "print(\"Minkowski Distance Matrix:\") \n",
    "print(minkowski_dist)"
   ]
  },
  {
   "cell_type": "markdown",
   "id": "50a76dbb-cdbd-4d56-8f58-b2785fa579f1",
   "metadata": {},
   "source": [
    "### 13.Supremum Distance"
   ]
  },
  {
   "cell_type": "code",
   "execution_count": 4,
   "id": "8d2546aa-6cfb-47f3-a9dc-ae33d11eb0ac",
   "metadata": {
    "scrolled": true
   },
   "outputs": [
    {
     "name": "stdout",
     "output_type": "stream",
     "text": [
      "Supremum Distance Matrix:\n",
      "[[0.         0.70710678 1.41421356 2.12132034 2.82842712]\n",
      " [0.70710678 0.         0.70710678 1.41421356 2.12132034]\n",
      " [1.41421356 0.70710678 0.         0.70710678 1.41421356]\n",
      " [2.12132034 1.41421356 0.70710678 0.         0.70710678]\n",
      " [2.82842712 2.12132034 1.41421356 0.70710678 0.        ]]\n"
     ]
    }
   ],
   "source": [
    "from scipy.spatial.distance import cdist\n",
    "# Read the CSV file\n",
    "data = pd.read_csv('z_scores.csv')\n",
    "# Calculate Supremum distance matrix\n",
    "supremum_dist = cdist(data, data, metric='chebyshev')\n",
    "# Print the distance matrix \n",
    "print(\"Supremum Distance Matrix:\") \n",
    "print(supremum_dist)\n"
   ]
  },
  {
   "cell_type": "markdown",
   "id": "61a30101-6eeb-475b-a86a-74370481d4d8",
   "metadata": {},
   "source": [
    "### 14.Chi-Square"
   ]
  },
  {
   "cell_type": "code",
   "execution_count": 5,
   "id": "a2edb522-8a52-4c1d-9ecc-79f3bf3feeac",
   "metadata": {
    "scrolled": true
   },
   "outputs": [
    {
     "name": "stdout",
     "output_type": "stream",
     "text": [
      "Chi-Square Test:\n",
      "Chi-Square Statistic: 30.0\n",
      "P-value: 4.894437128029217e-06\n"
     ]
    }
   ],
   "source": [
    "from scipy.stats import chi2_contingency\n",
    "# Read the CSV file\n",
    "data = pd.read_csv('chi2_contingency_table.csv', index_col=0)\n",
    "\n",
    "data = data.astype(int)  # Convert to integers if needed\n",
    "# Perform Chi-Square test \n",
    "chi2_results = chi2_contingency(data) \n",
    "chi2_statistic = chi2_results[0] \n",
    "p_value = chi2_results[1]\n",
    "print(\"Chi-Square Test:\")\n",
    "print(\"Chi-Square Statistic:\", chi2_statistic) \n",
    "print(\"P-value:\", p_value)\n"
   ]
  },
  {
   "cell_type": "markdown",
   "id": "debfffd9-ad40-4520-bf06-f1c118489583",
   "metadata": {},
   "source": [
    "### 15.covariance matrix"
   ]
  },
  {
   "cell_type": "code",
   "execution_count": 7,
   "id": "45bfc85f-5c35-4025-8ff6-2396f0a03efb",
   "metadata": {},
   "outputs": [
    {
     "name": "stdout",
     "output_type": "stream",
     "text": [
      "Covariance Matrix:\n",
      "     X    Y    Z\n",
      "X  2.5 -2.5  2.5\n",
      "Y -2.5  2.5 -2.5\n",
      "Z  2.5 -2.5  2.5\n"
     ]
    }
   ],
   "source": [
    "# Read the CSV file\n",
    "data = pd.read_csv('numbers.csv')\n",
    "# Calculate covariance matrix \n",
    "cov_matrix = data.cov()\n",
    "# Print the covariance matrix \n",
    "print(\"Covariance Matrix:\") \n",
    "print(cov_matrix)"
   ]
  },
  {
   "cell_type": "markdown",
   "id": "97c5c8cd-a497-4b98-aa2e-73d274b76453",
   "metadata": {},
   "source": [
    "### 16.hamming_distance"
   ]
  },
  {
   "cell_type": "code",
   "execution_count": 9,
   "id": "d1fcb2db-6b17-4c79-9794-344d782975bb",
   "metadata": {},
   "outputs": [
    {
     "name": "stdout",
     "output_type": "stream",
     "text": [
      "Hamming Distance: 0.2\n"
     ]
    }
   ],
   "source": [
    "def hamming_distance(x, y): \n",
    "    return np.sum(x != y)/ len(x)\n",
    "# Example usage \n",
    "x = \"abcde\"\n",
    "y = \"axcye\"\n",
    "hamming_dist = hamming_distance(list(x), list(y)) \n",
    "print(\"Hamming Distance:\", hamming_dist)\n"
   ]
  },
  {
   "cell_type": "markdown",
   "id": "b13157db-8d54-4126-b0b9-487162b03496",
   "metadata": {},
   "source": [
    "### 17.jaccard_distance"
   ]
  },
  {
   "cell_type": "code",
   "execution_count": 10,
   "id": "a4662d07-15db-4b55-bb39-df9d183f2dd4",
   "metadata": {},
   "outputs": [
    {
     "name": "stdout",
     "output_type": "stream",
     "text": [
      "Jaccard Distance: 0.75\n"
     ]
    }
   ],
   "source": [
    "def jaccard_distance(x, y):\n",
    "    intersection = len(set(x).intersection(set(y))) \n",
    "    union = len(set(x).union(set(y)))\n",
    "    return 1 - intersection / union\n",
    "# Example usage \n",
    "x = [1, 2, 3, 4, 5]\n",
    "y = [4, 5, 6, 7, 8]\n",
    "jaccard_dist = jaccard_distance(x, y) \n",
    "print(\"Jaccard Distance:\", jaccard_dist)"
   ]
  },
  {
   "cell_type": "markdown",
   "id": "f3eeb86b-b422-483c-af94-43cd96487fd1",
   "metadata": {},
   "source": [
    "### 18.gower_distance"
   ]
  },
  {
   "cell_type": "code",
   "execution_count": 20,
   "id": "cd59169b-677f-4776-95ad-a38bd1b0efab",
   "metadata": {},
   "outputs": [
    {
     "name": "stdout",
     "output_type": "stream",
     "text": [
      "Numeric Dissimilarity: 5.0\n",
      "Binary Dissimilarity: 1.0\n",
      "Ordinal Dissimilarity: 10000\n"
     ]
    }
   ],
   "source": [
    "import pandas as pd\n",
    "from scipy.spatial import distance\n",
    "\n",
    "# Define Gower's distance function\n",
    "def gower_distance(x, y):\n",
    "    num_dist = distance.euclidean([x['Age']], [y['Age']])\n",
    "    bin_dist = distance.hamming([x['Gender']], [y['Gender']])\n",
    "    ord_dist = distance.cityblock([x['Income']], [y['Income']])\n",
    "    return num_dist, bin_dist, ord_dist\n",
    "\n",
    "# Load the CSV file\n",
    "data = pd.read_csv('gower_distance_data.csv')\n",
    "\n",
    "# Sample data points\n",
    "x = {'Age': data['Age'][0], 'Gender': data['Gender'][0], 'Income': data['Income'][0]}\n",
    "y = {'Age': data['Age'][1], 'Gender': data['Gender'][1], 'Income': data['Income'][1]}\n",
    "\n",
    "# Set weights\n",
    "weights = {'Age': 0.5, 'Gender': 0.3, 'Income': 0.2}\n",
    "\n",
    "# Calculate Gower's distance\n",
    "num_dist, bin_dist, ord_dist = gower_distance(x, y)\n",
    "\n",
    "# Print the results\n",
    "print(\"Numeric Dissimilarity:\", num_dist)\n",
    "print(\"Binary Dissimilarity:\", bin_dist)\n",
    "print(\"Ordinal Dissimilarity:\", ord_dist)\n"
   ]
  },
  {
   "cell_type": "markdown",
   "id": "702a20a1-4d26-4cda-9fc8-6c8f4e600c30",
   "metadata": {},
   "source": [
    "### 19.spearmanr"
   ]
  },
  {
   "cell_type": "code",
   "execution_count": 21,
   "id": "502c747e-ae46-4501-bcda-aa8d868b8711",
   "metadata": {},
   "outputs": [
    {
     "name": "stdout",
     "output_type": "stream",
     "text": [
      "Spearman's Distance: 4.0\n"
     ]
    }
   ],
   "source": [
    "from scipy.stats import spearmanr\n",
    "# Example usage \n",
    "x = [1, 2, 3, 4, 5]\n",
    "y = [5, 4, 3, 2, 1]\n",
    "spearman_dist, _ = spearmanr(x, y) \n",
    "spearman_distance = 2 * (1 - spearman_dist) \n",
    "print(\"Spearman's Distance:\",spearman_distance)"
   ]
  },
  {
   "cell_type": "code",
   "execution_count": null,
   "id": "89990576-c9c1-453a-b2bd-90a63f30f7e3",
   "metadata": {},
   "outputs": [],
   "source": []
  }
 ],
 "metadata": {
  "kernelspec": {
   "display_name": "Python 3 (ipykernel)",
   "language": "python",
   "name": "python3"
  },
  "language_info": {
   "codemirror_mode": {
    "name": "ipython",
    "version": 3
   },
   "file_extension": ".py",
   "mimetype": "text/x-python",
   "name": "python",
   "nbconvert_exporter": "python",
   "pygments_lexer": "ipython3",
   "version": "3.11.7"
  },
  "widgets": {
   "application/vnd.jupyter.widget-state+json": {
    "state": {},
    "version_major": 2,
    "version_minor": 0
   }
  }
 },
 "nbformat": 4,
 "nbformat_minor": 5
}
