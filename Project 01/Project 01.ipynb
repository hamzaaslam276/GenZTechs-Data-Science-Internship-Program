{
 "cells": [
  {
   "cell_type": "markdown",
   "id": "2e61ba20-20ef-4dd7-a94a-32adff99f6d1",
   "metadata": {},
   "source": [
    "# Mini Project: Expense Tracker \n",
    "\n",
    "## Objective: \n",
    "Develop a text-based expense tracking application.\n",
    ":\n",
    "\n",
    "# Instructions:\r",
    " \n",
    "* Allow the user to add expenses with a description, category (e.g., food, travel), and amount.\n",
    "* Display a summary of total expenses, along with the breakdown by category.\n",
    "* Add an option to display expenses within a specified date range.\n",
    "* Allow the user to remove an expense by description or date.\n",
    "* Provide an option to save and load expenses from a text file, so that the tracker can retain data\n",
    "even after restarting.ting.."
   ]
  },
  {
   "cell_type": "code",
   "execution_count": 1,
   "id": "e6066f4f-4eff-4f27-ae56-3d9e4074ed4d",
   "metadata": {
    "scrolled": true
   },
   "outputs": [
    {
     "name": "stdout",
     "output_type": "stream",
     "text": [
      "\n",
      "Expense Tracker\n",
      "1. Add Expense\n",
      "2. Display Summary\n",
      "3. Display Expenses by Date\n",
      "4. Remove Expense\n",
      "5. Save Expenses\n",
      "6. Load Expenses\n",
      "7. Exit\n"
     ]
    },
    {
     "name": "stdin",
     "output_type": "stream",
     "text": [
      "Choose an option:  7\n"
     ]
    },
    {
     "name": "stdout",
     "output_type": "stream",
     "text": [
      "Exiting expense tracker.\n"
     ]
    }
   ],
   "source": [
    "import datetime\n",
    "\n",
    "class ExpenseTracker:\n",
    "    def __init__(self):\n",
    "        self.expenses = []\n",
    "\n",
    "    def add_expense(self):\n",
    "        description = input(\"Enter expense description: \")\n",
    "        category = input(\"Enter expense category: \")\n",
    "        amount = float(input(\"Enter expense amount: \"))\n",
    "        date = input(\"Enter expense date (YYYY-MM-DD): \")\n",
    "        self.expenses.append({\n",
    "            \"description\": description,\n",
    "            \"category\": category,\n",
    "            \"amount\": amount,\n",
    "            \"date\": datetime.datetime.strptime(date, \"%Y-%m-%d\")\n",
    "        })\n",
    "        print(\"Expense added successfully.\")\n",
    "\n",
    "    def display_summary(self):\n",
    "        total_expenses = sum(expense[\"amount\"] for expense in self.expenses)\n",
    "        category_breakdown = {}\n",
    "        for expense in self.expenses:\n",
    "            category = expense[\"category\"]\n",
    "            if category in category_breakdown:\n",
    "                category_breakdown[category] += expense[\"amount\"]\n",
    "            else:\n",
    "                category_breakdown[category] = expense[\"amount\"]\n",
    "        print(f\"Total expenses: Rs{total_expenses}\")\n",
    "        print(\"Breakdown category\")\n",
    "        for category, amount in category_breakdown.items():\n",
    "            print(f\"{category}: Rs{amount}\")\n",
    "\n",
    "    def display_expenses_by_date(self):\n",
    "        start_date = input(\"Enter start date (YYYY-MM-DD): \")\n",
    "        start_date = datetime.datetime.strptime(start_date, \"%Y-%m-%d\")\n",
    "        end_date = input(\"Enter end date (YYYY-MM-DD): \")\n",
    "        end_date = datetime.datetime.strptime(end_date, \"%Y-%m-%d\")\n",
    "        filtered_expenses = [expense for expense in self.expenses if start_date <= expense[\"date\"] <= end_date]\n",
    "        if filtered_expenses:\n",
    "            print(\"Expenses within the specified date range:\")\n",
    "            for expense in filtered_expenses:\n",
    "                print(f\"{expense['description']}: Rs{expense['amount']} on {expense['date'].strftime('%Y-%m-%d')}\")\n",
    "        else:\n",
    "            print(\"No expenses found within the specified date range.\")\n",
    "\n",
    "    def remove_expense(self):\n",
    "        option = input(\"Remove expense by (1) description or (2) date: \")\n",
    "        if option == \"1\":\n",
    "            description = input(\"Enter expense description: \")\n",
    "            self.expenses = [expense for expense in self.expenses if expense[\"description\"] != description]\n",
    "            print(\"Expense removed successfully.\")\n",
    "        elif option == \"2\":\n",
    "            date = input(\"Enter expense date (YYYY-MM-DD): \")\n",
    "            date = datetime.datetime.strptime(date, \"%Y-%m-%d\")\n",
    "            self.expenses = [expense for expense in self.expenses if expense[\"date\"] != date]\n",
    "            print(\"Expense removed successfully.\")\n",
    "        else:\n",
    "            print(\"Invalid option.\")\n",
    "\n",
    "    def save_expenses(self):\n",
    "        file_name = input(\"Enter file name: \")\n",
    "        with open(file_name, \"w\") as file:\n",
    "            for expense in self.expenses:\n",
    "                file.write(f\"{expense['description']},{expense['category']},{expense['amount']},{expense['date'].strftime('%Y-%m-%d')}\\n\")\n",
    "        print(\"Expenses saved successfully.\")\n",
    "\n",
    "    def load_expenses(self):\n",
    "        file_name = input(\"Enter file name: \")\n",
    "        try:\n",
    "            with open(file_name, \"r\") as file:\n",
    "                for line in file.readlines():\n",
    "                    description, category, amount, date = line.strip().split(\",\")\n",
    "                    self.expenses.append({\n",
    "                        \"description\": description,\n",
    "                        \"category\": category,\n",
    "                        \"amount\": float(amount),\n",
    "                        \"date\": datetime.datetime.strptime(date, \"%Y-%m-%d\")\n",
    "                    })\n",
    "            print(\"Expenses loaded successfully.\")\n",
    "        except FileNotFoundError:\n",
    "            print(\"File not found.\")\n",
    "\n",
    "def main():\n",
    "    tracker = ExpenseTracker()\n",
    "    while True:\n",
    "        print(\"\\nExpense Tracker\")\n",
    "        print(\"1. Add Expense\")\n",
    "        print(\"2. Display Summary\")\n",
    "        print(\"3. Display Expenses by Date\")\n",
    "        print(\"4. Remove Expense\")\n",
    "        print(\"5. Save Expenses\")\n",
    "        print(\"6. Load Expenses\")\n",
    "        print(\"7. Exit\")\n",
    "        option = input(\"Choose an option: \")\n",
    "        if option == \"1\":\n",
    "            tracker.add_expense()\n",
    "        elif option == \"2\":\n",
    "            tracker.display_summary()\n",
    "        elif option == \"3\":\n",
    "            tracker.display_expenses_by_date()\n",
    "        elif option == \"4\":\n",
    "            tracker.remove_expense()\n",
    "        elif option == \"5\":\n",
    "            tracker.save_expenses()\n",
    "        elif option == \"6\":\n",
    "            tracker.load_expenses()\n",
    "        elif option == \"7\":\n",
    "            print(\"Exiting expense tracker.\")\n",
    "            break\n",
    "        else:\n",
    "            print(\"Invalid option. Please choose again.\")\n",
    "\n",
    "if __name__ == \"__main__\":\n",
    "    main()"
   ]
  },
  {
   "cell_type": "code",
   "execution_count": null,
   "id": "4ec0a164-4c14-4226-ac12-7cbb477f782c",
   "metadata": {},
   "outputs": [],
   "source": []
  }
 ],
 "metadata": {
  "kernelspec": {
   "display_name": "Python 3 (ipykernel)",
   "language": "python",
   "name": "python3"
  },
  "language_info": {
   "codemirror_mode": {
    "name": "ipython",
    "version": 3
   },
   "file_extension": ".py",
   "mimetype": "text/x-python",
   "name": "python",
   "nbconvert_exporter": "python",
   "pygments_lexer": "ipython3",
   "version": "3.11.7"
  },
  "widgets": {
   "application/vnd.jupyter.widget-state+json": {
    "state": {},
    "version_major": 2,
    "version_minor": 0
   }
  }
 },
 "nbformat": 4,
 "nbformat_minor": 5
}
