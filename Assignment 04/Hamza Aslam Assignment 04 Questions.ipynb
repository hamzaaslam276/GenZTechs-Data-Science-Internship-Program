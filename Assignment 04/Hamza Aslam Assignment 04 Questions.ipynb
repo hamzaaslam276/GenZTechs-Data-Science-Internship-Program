{
 "cells": [
  {
   "cell_type": "markdown",
   "id": "d735370e-3e8f-40ae-8a7e-0126c7d20523",
   "metadata": {},
   "source": [
    "# ....................................Genztechs...........................................\n",
    "# ...................................Assignment 4.......................................\n",
    "# ...............................Data Science Internship.........................\n",
    "# ....................................Hamza Aslam......................................."
   ]
  },
  {
   "cell_type": "markdown",
   "id": "64184472-8182-4ecd-ac22-d15dbb782f73",
   "metadata": {},
   "source": [
    "# Questions:\n",
    "### 1. - Create a function that calculates the arithmetic mean of a given list of numbers.\n",
    "- Generate a random list of 30 numbers and calculate their arithmetic mean."
   ]
  },
  {
   "cell_type": "code",
   "execution_count": 30,
   "id": "b72e1fd0-8313-4cc3-b287-c755a4a85a09",
   "metadata": {},
   "outputs": [
    {
     "name": "stdout",
     "output_type": "stream",
     "text": [
      "Generated List of Numbers: [92, 67, 90, 88, 25, 22, 39, 85, 86, 63, 1, 75, 24, 21, 59, 5, 20, 26, 51, 73, 74, 85, 81, 45, 28, 89, 15, 80, 10, 84]\n",
      "Arithmetic Mean: 53.43333333333333\n"
     ]
    }
   ],
   "source": [
    "import random\n",
    "import numpy as np\n",
    "\n",
    "random_numbers = [random.randint(1, 100) for _ in range(30)]\n",
    "mean = np.mean(random_numbers)\n",
    "\n",
    "print(\"Generated List of Numbers:\", random_numbers)\n",
    "print(\"Arithmetic Mean:\", mean)"
   ]
  },
  {
   "cell_type": "markdown",
   "id": "cb494108-85f5-4d4f-81b8-dfe4a624e155",
   "metadata": {},
   "source": [
    "2. - Create a function that calculatesthe weighted mean of a given list of numbers and their correspondng \r",
    "weightss.\r\n",
    "- Generate two lists: one with 40 numbers and another with 40 corresponding weights. Calculate their \r\n",
    "weighted mean."
   ]
  },
  {
   "cell_type": "code",
   "execution_count": 40,
   "id": "fe759a46-589e-4a5f-82df-8c76d46b29ed",
   "metadata": {
    "scrolled": true
   },
   "outputs": [
    {
     "name": "stdout",
     "output_type": "stream",
     "text": [
      "Generated List of Numbers: [49, 82, 90, 91, 19, 90, 49, 43, 61, 55, 10, 48, 86, 68, 44, 92, 63, 17, 87, 52, 69, 37, 100, 93, 17, 45, 19, 54, 6, 88, 28, 55, 22, 65, 15, 19, 37, 1, 44, 7]\n",
      "Generated List of Weights: [89, 9, 95, 63, 56, 11, 22, 26, 2, 23, 79, 89, 40, 21, 21, 39, 80, 77, 70, 59, 89, 79, 15, 97, 22, 37, 66, 82, 89, 47, 19, 35, 61, 31, 1, 61, 28, 68, 4, 7]\n",
      "Weighted Mean: 49.900995285489785\n"
     ]
    }
   ],
   "source": [
    "import random\n",
    "import numpy as np\n",
    "\n",
    "numbers = [random.randint(1, 100) for _ in range(40)]\n",
    "weights = [random.randint(1, 100) for _ in range(40)]\n",
    "\n",
    "numbers_array = np.array(numbers)\n",
    "weights_array = np.array(weights)\n",
    "\n",
    "w_mean = np.average(numbers_array, weights=weights_array)\n",
    "\n",
    "print(\"Generated List of Numbers:\", numbers)\n",
    "print(\"Generated List of Weights:\", weights)\n",
    "print(\"Weighted Mean:\", w_mean)"
   ]
  },
  {
   "cell_type": "markdown",
   "id": "99f1819e-398b-4dc3-bc10-8b73ae9b2f05",
   "metadata": {},
   "source": [
    "3. - Create a function that calculates the trimmed mean of a given list of numbers after excluding a \n",
    "specified percentage of outliers from both ends.\n",
    "- Generate a random list of 100 numbers and calculate their trimmed mean after excluding the top and \n",
    "bottom 10% of outliers."
   ]
  },
  {
   "cell_type": "code",
   "execution_count": 3,
   "id": "7700c473-08b2-4e71-b4f0-ac859403412c",
   "metadata": {},
   "outputs": [
    {
     "name": "stdout",
     "output_type": "stream",
     "text": [
      "Original Training Target Values (First 10): [ 24.7816116  -37.4991444  -11.01926675  61.91233294  46.0731574\n",
      "  12.61693126  22.78482382 -70.96848274  32.34359474 -65.59777871]\n",
      "Trimmed Mean of Training Target Values: -5.13535811060032\n"
     ]
    }
   ],
   "source": [
    "from sklearn.datasets import make_regression\n",
    "from sklearn.model_selection import train_test_split\n",
    "import numpy as np\n",
    "from scipy.stats import trim_mean\n",
    "\n",
    "\n",
    "X, y = make_regression(n_samples=100, n_features=1, noise=10, random_state=42)\n",
    "\n",
    "X_train, X_test, y_train, y_test = train_test_split(X, y, test_size=0.2, random_state=42)\n",
    "\n",
    "trim_percent = 0.1 \n",
    "y_train_trimmed_mean = trim_mean(y_train, trim_percent)\n",
    "\n",
    "print(\"Original Training Target Values (First 10):\", y_train[:10])\n",
    "print(f\"Trimmed Mean of Training Target Values: {y_train_trimmed_mean}\")"
   ]
  },
  {
   "cell_type": "markdown",
   "id": "dcb04eb3-02c2-441b-844e-cc205b552aea",
   "metadata": {},
   "source": [
    "4. - Create a function that calculates the median of a given list of numbers.\n",
    "- Generate a random list of 100 numbers and calculate their median."
   ]
  },
  {
   "cell_type": "code",
   "execution_count": 6,
   "id": "90f000d9-2d8c-45fc-b2bf-123db7004bb3",
   "metadata": {},
   "outputs": [
    {
     "name": "stdout",
     "output_type": "stream",
     "text": [
      "Generated List of Numbers: [689, 234, 677, 794, 58, 803, 584, 613, 538, 580, 773, 655, 360, 494, 525, 758, 359, 769, 694, 125, 64, 221, 617, 698, 388, 498, 582, 640, 558, 914, 701, 686, 892, 846, 603, 982, 702, 104, 934, 244, 253, 59, 505, 745, 870, 951, 100, 480, 448, 633, 224, 859, 49, 174, 463, 358, 44, 992, 315, 599, 346, 370, 259, 12, 511, 240, 30, 122, 804, 505, 866, 94, 356, 342, 329, 389, 52, 237, 308, 946, 100, 857, 401, 892, 408, 727, 354, 346, 728, 205, 430, 994, 111, 410, 970, 427, 782, 449, 646, 247]\n",
      "Median: 496.0\n"
     ]
    }
   ],
   "source": [
    "import random\n",
    "import numpy as np\n",
    "\n",
    "random_numbers = [random.randint(1, 1000) for _ in range(100)]\n",
    "\n",
    "median_value = np.median(random_numbers)\n",
    "\n",
    "print(\"Generated List of Numbers:\", random_numbers)\n",
    "print(\"Median:\", median_value)\n"
   ]
  },
  {
   "cell_type": "markdown",
   "id": "dd485811-8a45-43cb-a4d5-eedb7e803080",
   "metadata": {},
   "source": [
    "5. - Create a function that calculates the mode(s) of a given list of numbers.\n",
    "- Generate a random list of 100 numbers and calculate their mode(s)."
   ]
  },
  {
   "cell_type": "code",
   "execution_count": 1,
   "id": "aef99647-72a7-47c8-965a-6e5a9ef15d4d",
   "metadata": {},
   "outputs": [
    {
     "name": "stdout",
     "output_type": "stream",
     "text": [
      "Generated List of Numbers: [39, 28, 1, 34, 46, 29, 43, 40, 37, 10, 27, 38, 39, 4, 50, 41, 27, 36, 5, 5, 3, 23, 32, 12, 23, 20, 18, 28, 16, 45, 3, 18, 30, 45, 28, 19, 20, 28, 47, 5, 48, 21, 39, 20, 13, 3, 4, 23, 19, 44, 25, 20, 18, 35, 13, 27, 40, 43, 3, 26, 11, 26, 8, 8, 19, 42, 11, 21, 9, 8, 7, 48, 20, 17, 7, 32, 22, 16, 46, 6, 9, 45, 28, 39, 38, 41, 6, 32, 11, 30, 17, 39, 45, 34, 32, 25, 32, 9, 23, 26]\n",
      "Mode: 39\n"
     ]
    }
   ],
   "source": [
    "import random\n",
    "import statistics \n",
    "\n",
    "\n",
    "random_numbers = [random.randint(1, 50) for _ in range(100)]\n",
    "\n",
    "modes = statistics.mode(random_numbers)\n",
    "\n",
    "print(\"Generated List of Numbers:\", random_numbers)\n",
    "print(\"Mode:\", modes)"
   ]
  },
  {
   "cell_type": "markdown",
   "id": "7dc9acc4-ce28-4a2d-85a4-22f642a177f9",
   "metadata": {},
   "source": [
    "6. Implement a linear regression model to predict a target variable based on a set of predictor variables.\n",
    "- Calculate the correlation coefficient between two variables in a dataset."
   ]
  },
  {
   "cell_type": "code",
   "execution_count": 4,
   "id": "4930f063-24f2-46a8-ad44-ebd9287ec669",
   "metadata": {
    "scrolled": true
   },
   "outputs": [
    {
     "name": "stdout",
     "output_type": "stream",
     "text": [
      "Correlation Coefficient between X and Y: 0.11512295280551538\n",
      "Mean Squared Error (MSE): 35.90697054759342\n",
      "R-squared (R²): -0.06801360147241486\n",
      "Intercept: 15.180177852615488\n",
      "Coefficient: 0.13129046468766234\n"
     ]
    }
   ],
   "source": [
    "import pandas as pd\n",
    "import numpy as np\n",
    "from sklearn.model_selection import train_test_split\n",
    "from sklearn.linear_model import LinearRegression\n",
    "from sklearn.metrics import mean_squared_error, r2_score\n",
    "\n",
    "data = {\n",
    "    \"X\": np.random.rand(100) * 10,  \n",
    "    \"Y\": np.random.rand(100) * 20 + 5 \n",
    "}\n",
    "df = pd.DataFrame(data)\n",
    "\n",
    "correlation_coefficient = np.corrcoef(df[\"X\"], df[\"Y\"])[0, 1]\n",
    "print(\"Correlation Coefficient between X and Y:\", correlation_coefficient)\n",
    "\n",
    "X = df[[\"X\"]] \n",
    "y = df[\"Y\"]   \n",
    "X_train, X_test, y_train, y_test = train_test_split(X, y, test_size=0.2, random_state=42)\n",
    "\n",
    "model = LinearRegression()\n",
    "model.fit(X_train, y_train)\n",
    "\n",
    "y_pred = model.predict(X_test)\n",
    "\n",
    "mse = mean_squared_error(y_test, y_pred)\n",
    "r2 = r2_score(y_test, y_pred)\n",
    "print(\"Mean Squared Error (MSE):\", mse)\n",
    "print(\"R-squared (R²):\", r2)\n",
    "\n",
    "print(\"Intercept:\", model.intercept_)\n",
    "print(\"Coefficient:\", model.coef_[0])"
   ]
  },
  {
   "cell_type": "markdown",
   "id": "5386d685-7189-4581-bc2f-5232cd8b4319",
   "metadata": {},
   "source": [
    "7. - Create a function that calculates the standard deviation of a given list of numbers.\n",
    "- Generate a random list of 100 numbers and calculate their standard deviation.\n"
   ]
  },
  {
   "cell_type": "code",
   "execution_count": 36,
   "id": "821824fc-a8b7-466b-8c6f-64ccf4325f80",
   "metadata": {},
   "outputs": [
    {
     "name": "stdout",
     "output_type": "stream",
     "text": [
      "Generated List of Numbers: [769, 827, 361, 744, 439, 630, 434, 400, 899, 285, 300, 706, 507, 795, 575, 62, 743, 393, 997, 802, 304, 136, 783, 310, 707, 126, 356, 563, 416, 985, 712, 549, 522, 74, 59, 973, 644, 233, 973, 273, 164, 191, 911, 387, 419, 781, 560, 939, 324, 794, 61, 277, 263, 602, 990, 407, 214, 139, 503, 715, 774, 328, 974, 682, 267, 539, 794, 765, 748, 697, 910, 573, 668, 798, 744, 578, 197, 689, 239, 641, 824, 550, 476, 46, 733, 730, 513, 251, 727, 760, 266, 347, 778, 483, 788, 357, 905, 490, 258, 489]\n",
      "Standard Deviation: 28.209154542453057\n"
     ]
    }
   ],
   "source": [
    "import random\n",
    "import numpy as np\n",
    "\n",
    "random_numbers = [random.randint(1, 1000) for _ in range(100)]\n",
    "\n",
    "std_dev = np.std(random_data)\n",
    "\n",
    "print(\"Generated List of Numbers:\", random_numbers)\n",
    "print(\"Standard Deviation:\", std_dev)\n"
   ]
  },
  {
   "cell_type": "markdown",
   "id": "2e11d04c-11f9-4fa7-88ed-31ed23cf33b4",
   "metadata": {},
   "source": [
    "8. - Create a function that generates a box plot of a given dataset.\n",
    "- Generate a random dataset and plot its box plot."
   ]
  },
  {
   "cell_type": "code",
   "execution_count": 32,
   "id": "d43fc413-fd86-4430-bcac-c5e120ebe1b5",
   "metadata": {},
   "outputs": [
    {
     "data": {
      "image/png": "[encoded data removed]",
      "text/plain": [
       "<Figure size 640x480 with 1 Axes>"
      ]
     },
     "metadata": {},
     "output_type": "display_data"
    }
   ],
   "source": [
    "import matplotlib.pyplot as plt\n",
    "import random\n",
    "\n",
    "random_data = [random.randint(1, 100) for _ in range(100)]\n",
    "\n",
    "plt.boxplot(random_data, vert=False)\n",
    "plt.title(\"Box Plot\", fontsize=14)\n",
    "plt.xlabel(\"Values\", fontsize=12)\n",
    "\n",
    "plt.show()"
   ]
  },
  {
   "cell_type": "markdown",
   "id": "cf3e874f-d5ff-49e4-a4d6-b2cbd2486c20",
   "metadata": {},
   "source": [
    "9. - Create a function that calculates the z-score of a given list of numbers.\n",
    "- Generate a random list of 100 numbers and calculate their z-scores."
   ]
  },
  {
   "cell_type": "code",
   "execution_count": 1,
   "id": "ab8e1350-108f-4f43-ba47-fc8296e70282",
   "metadata": {
    "scrolled": true
   },
   "outputs": [
    {
     "name": "stdout",
     "output_type": "stream",
     "text": [
      "Z-Scores for Random Numbers:\n",
      "[-0.61221669  1.54508719  0.62986736 -1.42937725 -0.38341173  1.47971434\n",
      "  0.17225745 -1.59280936 -0.25266604 -1.03714018  0.72792663 -1.36400441\n",
      "  1.15285012  0.43374882  1.18553654 -1.42937725 -0.481471   -1.65818221\n",
      "  1.12016369 -0.74296238  1.47971434 -0.71027596 -0.97176734  0.30300314\n",
      "  1.08747727  1.21822296  1.51240076  0.17225745 -1.36400441  1.38165507\n",
      " -0.08923393 -0.44878458 -0.15460678  0.82598589 -1.33131798  0.76061305\n",
      "  0.13957102 -1.65818221 -0.90639449 -0.97176734 -1.39669083 -1.20057229\n",
      "  1.08747727 -0.05654751  1.34896865 -0.67758954  0.43374882  1.54508719\n",
      "  0.56449451 -0.67758954  0.13957102 -0.7756488  -0.481471    0.49912167\n",
      " -0.481471   -0.05654751 -0.28535247  1.21822296 -1.59280936  0.92404516\n",
      " -0.61221669  0.85867232 -0.35072531 -1.33131798 -1.20057229 -0.08923393\n",
      "  1.4143415   1.08747727 -0.02386109  0.95673158 -0.31803889 -1.56012294\n",
      " -1.03714018  0.4010624  -0.51415742  1.18553654  0.66255378  0.98941801\n",
      "  1.47971434  1.51240076  0.17225745 -0.97176734 -0.90639449  0.76061305\n",
      " -0.57953027  1.28359581  1.08747727  1.38165507 -1.56012294  0.49912167\n",
      " -1.46206367 -1.52743652  0.07419818 -1.39669083  1.12016369  0.33568956\n",
      "  1.18553654 -0.1872932   0.1068846  -0.74296238]\n"
     ]
    }
   ],
   "source": [
    "import pandas as pd\n",
    "import random\n",
    "from scipy.stats import zscore\n",
    "\n",
    "random_numbers = [random.randint(1, 100) for _ in range(100)]\n",
    "\n",
    "z_scores = zscore(random_numbers)\n",
    "print(\"Z-Scores for Random Numbers:\")\n",
    "print(z_scores)"
   ]
  },
  {
   "cell_type": "markdown",
   "id": "a28996c9-64c8-4d88-a3db-7362194153d0",
   "metadata": {},
   "source": [
    "10. - Create functionsthat calculate distancematricesfor Manhattan, Minkowski, Euclidean, and Supreme \n",
    "distances between a set of points.\n",
    "- Generate a set of random points and calculate their distance matrices using the different distance \n",
    "metrics."
   ]
  },
  {
   "cell_type": "code",
   "execution_count": 8,
   "id": "690fbb8a-4e18-4e92-b2ed-bc0143918167",
   "metadata": {},
   "outputs": [
    {
     "name": "stdout",
     "output_type": "stream",
     "text": [
      "Random Points:\n",
      "[[0.41347113 0.9178421  0.03135873]\n",
      " [0.56167647 0.04378717 0.54019192]\n",
      " [0.06883432 0.15633093 0.82117333]\n",
      " [0.30714579 0.69433454 0.65628709]\n",
      " [0.26822881 0.22988671 0.03116233]]\n",
      "\n",
      "Euclidean Distance Matrix:\n",
      "[[0.         1.0221781  1.14999169 0.67215784 0.70312018]\n",
      " [1.0221781  0.         0.57836842 0.70814959 0.61632434]\n",
      " [1.14999169 0.57836842 0.         0.61108732 0.81809901]\n",
      " [0.67215784 0.70814959 0.61108732 0.         0.77974822]\n",
      " [0.70312018 0.61632434 0.81809901 0.77974822 0.        ]]\n",
      "\n",
      "Manhattan Distance Matrix:\n",
      "[[0.         1.53109347 1.89596258 0.95476126 0.83339411]\n",
      " [1.53109347 0.         0.88636731 1.02117323 0.9885768 ]\n",
      " [1.89596258 0.88636731 0.         0.94120131 1.06296127]\n",
      " [0.95476126 1.02117323 0.94120131 0.         1.12848957]\n",
      " [0.83339411 0.9885768  1.06296127 1.12848957 0.        ]]\n",
      "\n",
      "Minkowski (p=3) Distance Matrix:\n",
      "[[0.         0.9293808  0.99167278 0.63531091 0.69010659]\n",
      " [0.9293808  0.         0.52331855 0.66446779 0.54693574]\n",
      " [0.99167278 0.52331855 0.         0.55800001 0.79443277]\n",
      " [0.63531091 0.66446779 0.55800001 0.         0.70104109]\n",
      " [0.69010659 0.54693574 0.79443277 0.70104109 0.        ]]\n",
      "\n",
      "Supreme Distance Matrix:\n",
      "[[0.         0.87405493 0.7898146  0.62492836 0.68795539]\n",
      " [0.87405493 0.         0.49284215 0.65054738 0.50902959]\n",
      " [0.7898146  0.49284215 0.         0.53800361 0.790011  ]\n",
      " [0.62492836 0.65054738 0.53800361 0.         0.62512476]\n",
      " [0.68795539 0.50902959 0.790011   0.62512476 0.        ]]\n"
     ]
    }
   ],
   "source": [
    "import numpy as np\n",
    "from scipy.spatial.distance import cdist\n",
    "\n",
    "def generate_random_points(n_points, dimensions):\n",
    "    return np.random.rand(n_points, dimensions)\n",
    "\n",
    "def main():\n",
    "    points = generate_random_points(5, 3)  \n",
    "    print(\"Random Points:\")\n",
    "    print(points)\n",
    "\n",
    "    metrics = {\n",
    "        \"Euclidean\": \"euclidean\",\n",
    "        \"Manhattan\": \"cityblock\",\n",
    "        \"Minkowski (p=3)\": (\"minkowski\", 3),\n",
    "        \"Supreme\": \"chebyshev\",\n",
    "    }\n",
    "\n",
    "    for name, metric in metrics.items():\n",
    "        if isinstance(metric, tuple):\n",
    "            matrix = cdist(points, points, metric[0], p=metric[1])\n",
    "        else:\n",
    "            matrix = cdist(points, points, metric)\n",
    "        print(f\"\\n{name} Distance Matrix:\")\n",
    "        print(matrix)\n",
    "\n",
    "if __name__ == \"__main__\":\n",
    "    main()"
   ]
  },
  {
   "cell_type": "markdown",
   "id": "52e197a8-a455-4639-98cf-d818511091a2",
   "metadata": {},
   "source": [
    "11. - Create a function that calculates the chi-square statistic and p-value for two categorical variables in \r\n",
    "a contingency table.\r\n",
    "- Generate a contingency table and calculate the chi-square statistic and p-val.ue"
   ]
  },
  {
   "cell_type": "code",
   "execution_count": 22,
   "id": "40395b50-93bc-431a-8301-a50684471574",
   "metadata": {
    "scrolled": true
   },
   "outputs": [
    {
     "name": "stdout",
     "output_type": "stream",
     "text": [
      "Contingency Table:\n",
      "[[30 10  5]\n",
      " [20 15 10]]\n",
      "\n",
      "Chi-Square Statistic: 4.666666666666667\n",
      "P-Value: 0.09697196786440507\n"
     ]
    }
   ],
   "source": [
    "import numpy as np\n",
    "from scipy.stats import chi2_contingency\n",
    "\n",
    "contingency_table = np.array([\n",
    "    [30, 10, 5],   \n",
    "    [20, 15, 10]   \n",
    "])\n",
    "\n",
    "chi2_stat, p_value, *_ = chi2_contingency(contingency_table)\n",
    "\n",
    "print(\"Contingency Table:\")\n",
    "print(contingency_table)\n",
    "print(\"\\nChi-Square Statistic:\", chi2_stat)\n",
    "print(\"P-Value:\", p_value)"
   ]
  },
  {
   "cell_type": "markdown",
   "id": "515abbc3-1dde-4d55-989d-71adb42e6c43",
   "metadata": {},
   "source": [
    "12. - Create a function that calculates the covariance between two variables in a dataset.\n",
    "- Generate a random dataset and calculate the covariance between two variables."
   ]
  },
  {
   "cell_type": "code",
   "execution_count": 21,
   "id": "1d347cfe-5ef7-43cb-9cbf-027227675587",
   "metadata": {},
   "outputs": [
    {
     "name": "stdout",
     "output_type": "stream",
     "text": [
      "Variable 1 (x): [3, 84, 21, 22, 31, 45, 27, 66, 49, 40, 45, 76, 53, 56, 3, 45, 38, 23, 26, 6, 8, 51, 99, 73, 44, 40, 25, 53, 2, 63]\n",
      "Variable 2 (y): [44, 98, 98, 82, 39, 8, 52, 78, 54, 17, 6, 13, 80, 19, 28, 27, 9, 70, 71, 81, 52, 43, 98, 48, 65, 43, 83, 78, 84, 10]\n",
      "\n",
      "Covariance between x and y: -27.38620689655173\n"
     ]
    }
   ],
   "source": [
    "import numpy as np\n",
    "import random\n",
    "\n",
    "x = [random.randint(1, 100) for _ in range(30)]\n",
    "y = [random.randint(1, 100) for _ in range(30)]\n",
    "\n",
    "# cov_value = np.cov(x, y)\n",
    "cov_value = np.cov(x, y)[0, 1]\n",
    "\n",
    "print(\"Variable 1 (x):\", x)\n",
    "print(\"Variable 2 (y):\", y)\n",
    "print(\"\\nCovariance between x and y:\", cov_value)"
   ]
  },
  {
   "cell_type": "markdown",
   "id": "ac79f634-ab3a-4a7a-98f4-3566b2349295",
   "metadata": {},
   "source": [
    "13. - Write functions that calculate dissimilarity measures (e.g., Jaccard, Dice, Hamming) for nominal,\n",
    "binary, mixed, and ordinal data.\n",
    "- Generate random datasets of each type and calculate their dissimilarity measures"
   ]
  },
  {
   "cell_type": "code",
   "execution_count": 25,
   "id": "3c45ed8b-01f0-436d-a08e-55c5087913b3",
   "metadata": {},
   "outputs": [
    {
     "name": "stdout",
     "output_type": "stream",
     "text": [
      "Data 1: [0 1 0 1 0 1 0 0 0 0]\n",
      "Data 2: [0 0 0 1 1 1 1 0 0 0]\n",
      "Jaccard Dissimilarity: 0.6\n",
      "Dice Dissimilarity: 0.4285714285714286\n",
      "Hamming Dissimilarity: 0.3\n"
     ]
    }
   ],
   "source": [
    "import numpy as np\n",
    "from scipy.spatial.distance import jaccard, hamming\n",
    "\n",
    "def dice_dissimilarity(set1, set2):\n",
    "    intersection = np.sum(np.logical_and(set1, set2))\n",
    "    return 1 - (2 * intersection / (np.sum(set1) + np.sum(set2)))\n",
    "\n",
    "def binary_data(size):\n",
    "    return np.random.randint(0, 2, size)\n",
    "\n",
    "def main():\n",
    "    size = 10  \n",
    "\n",
    "    data1 = binary_data(size)\n",
    "    data2 = binary_data(size)\n",
    "\n",
    "    print(\"Data 1:\", data1)\n",
    "    print(\"Data 2:\", data2)\n",
    "\n",
    "    print(\"Jaccard Dissimilarity:\", jaccard(data1, data2))\n",
    "    print(\"Dice Dissimilarity:\", dice_dissimilarity(data1, data2))\n",
    "    print(\"Hamming Dissimilarity:\", hamming(data1, data2))\n",
    "\n",
    "if __name__ == \"__main__\":\n",
    "    main()\n"
   ]
  },
  {
   "cell_type": "code",
   "execution_count": null,
   "id": "19a90a67-56f8-4bfe-98aa-4d21f8739967",
   "metadata": {},
   "outputs": [],
   "source": []
  }
 ],
 "metadata": {
  "kernelspec": {
   "display_name": "Python 3 (ipykernel)",
   "language": "python",
   "name": "python3"
  },
  "language_info": {
   "codemirror_mode": {
    "name": "ipython",
    "version": 3
   },
   "file_extension": ".py",
   "mimetype": "text/x-python",
   "name": "python",
   "nbconvert_exporter": "python",
   "pygments_lexer": "ipython3",
   "version": "3.11.7"
  },
  "widgets": {
   "application/vnd.jupyter.widget-state+json": {
    "state": {},
    "version_major": 2,
    "version_minor": 0
   }
  }
 },
 "nbformat": 4,
 "nbformat_minor": 5
}
