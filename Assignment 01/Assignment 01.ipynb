{
 "cells": [
  {
   "cell_type": "markdown",
   "id": "0f4d2694-906c-40c1-8e47-ffc989becec4",
   "metadata": {},
   "source": [
    "1. Create a calculator that can perform addition, subtraction, multiplication, division, and \n",
    "exponentiation. The program should take two numbers and an operator from the user and perform the \n",
    "operation."
   ]
  },
  {
   "cell_type": "code",
   "execution_count": 1,
   "id": "8eb5f89d-c40d-4a2d-a8ca-1160f8132259",
   "metadata": {},
   "outputs": [
    {
     "name": "stdout",
     "output_type": "stream",
     "text": [
      "Added 3 + 4 = 7\n",
      "Subtraction 6 - 4 = 2\n",
      "Multiply 5 x 6 = 30\n",
      "Divided 6 / 3 = 2.0\n",
      "Exponent 2 ^ 3 = 8\n"
     ]
    }
   ],
   "source": [
    "def add(a,b): \n",
    "    print(f\"Added {a} + {b} = {a+b}\")\n",
    "\n",
    "def subtract(a,b): \n",
    "    print(f\"Subtraction {a} - {b} = {a-b}\")\n",
    "\n",
    "def multiply(a,b): \n",
    "    print(f\"Multiply {a} x {b} = {a*b}\")\n",
    "\n",
    "def divide(a,b):\n",
    "    if b != 0:\n",
    "        print(f\"Divided {a} / {b} = {a/b}\")\n",
    "    else:\n",
    "        print(\"Error! Division by zero.\")\n",
    "    \n",
    "\n",
    "def exponentiate(a,b): \n",
    "    print(f\"Exponent {a} ^ {b} = {a**b}\")\n",
    "\n",
    "add(3,4)\n",
    "subtract(6,4)\n",
    "multiply(5,6)\n",
    "divide(6,3)\n",
    "exponentiate(2,3)"
   ]
  },
  {
   "cell_type": "markdown",
   "id": "3fcb0eba-18ee-4b55-b0b3-6c9a660fab0d",
   "metadata": {},
   "source": [
    "2. Write a program that randomly generates a number between 1 and 100. The user has to guess the \n",
    "number, and the program should give feedback if the guess is too high, too low, or correct."
   ]
  },
  {
   "cell_type": "code",
   "execution_count": 2,
   "id": "35893aa1-624e-4bea-be48-23f7559a065e",
   "metadata": {
    "scrolled": true
   },
   "outputs": [
    {
     "name": "stdout",
     "output_type": "stream",
     "text": [
      "Guess the number between 1 to 100\n"
     ]
    },
    {
     "name": "stdin",
     "output_type": "stream",
     "text": [
      "Enter your guess 44\n"
     ]
    },
    {
     "name": "stdout",
     "output_type": "stream",
     "text": [
      "Too low! Try again.\n"
     ]
    },
    {
     "name": "stdin",
     "output_type": "stream",
     "text": [
      "Enter your guess 66\n"
     ]
    },
    {
     "name": "stdout",
     "output_type": "stream",
     "text": [
      "Too high! Try again.\n"
     ]
    },
    {
     "name": "stdin",
     "output_type": "stream",
     "text": [
      "Enter your guess 55\n"
     ]
    },
    {
     "name": "stdout",
     "output_type": "stream",
     "text": [
      "Congratulations! You guessed the number in 3 attempts.\n"
     ]
    }
   ],
   "source": [
    "import random\n",
    "\n",
    "guess_number = random.randint(1,100)\n",
    "attempts = 0\n",
    "\n",
    "print(\"Guess the number between 1 to 100\")\n",
    "\n",
    "while True:\n",
    "    guess = int(input(\"Enter your guess\"))\n",
    "    attempts += 1\n",
    "\n",
    "    if guess < guess_number:\n",
    "        print(\"Too low! Try again.\")\n",
    "    elif guess > guess_number:\n",
    "        print(\"Too high! Try again.\")\n",
    "    else:\n",
    "        print(f\"Congratulations! You guessed the number in {attempts} attempts.\")\n",
    "        break\n"
   ]
  },
  {
   "cell_type": "markdown",
   "id": "c047ae8b-0760-40ed-bd8f-8a0d98e67768",
   "metadata": {},
   "source": [
    "3. Create a random password generator that lets the user specify the password length and whether to \n",
    "include special characters, numbers, and uppercase letters."
   ]
  },
  {
   "cell_type": "code",
   "execution_count": 3,
   "id": "e94bc6c0-6add-43f6-9436-af761aa75e06",
   "metadata": {
    "scrolled": true
   },
   "outputs": [
    {
     "name": "stdin",
     "output_type": "stream",
     "text": [
      "Enter the password length:  3\n",
      "Include special characters? (yes/no):  yes\n",
      "Include numbers? (yes/no):  yes\n",
      "Include uppercase letters? (yes/no):  yes\n"
     ]
    },
    {
     "name": "stdout",
     "output_type": "stream",
     "text": [
      "Generated password: _*b\n"
     ]
    }
   ],
   "source": [
    "import random\n",
    "import string\n",
    "\n",
    "def generate_password(length,special=True,numbers=True,uppercase=True):\n",
    "    characters = string.ascii_lowercase \n",
    "    if uppercase:\n",
    "        characters += string.ascii_uppercase\n",
    "    if numbers:\n",
    "        characters += string.digits\n",
    "    if special:\n",
    "        characters += string.punctuation\n",
    "\n",
    "    password = ''.join(random.choice(characters) for _ in range(length))\n",
    "    \n",
    "    return password\n",
    "\n",
    "\n",
    "\n",
    "length = int(input(\"Enter the password length: \"))\n",
    "special = input(\"Include special characters? (yes/no): \").strip().lower() == 'yes'\n",
    "numbers = input(\"Include numbers? (yes/no): \").strip().lower() == 'yes'\n",
    "uppercase = input(\"Include uppercase letters? (yes/no): \").strip().lower() == 'yes'\n",
    "\n",
    "password = generate_password(length,special,numbers,uppercase)\n",
    "print(\"Generated password:\", password)"
   ]
  },
  {
   "cell_type": "markdown",
   "id": "38fba0fc-7344-4ba0-8b8e-b0d53362a81b",
   "metadata": {},
   "source": [
    "4. Write a program to check if a given string is a palindrome. Ignore spaces, punctuation, and \n",
    "capitalization in your logic."
   ]
  },
  {
   "cell_type": "code",
   "execution_count": 4,
   "id": "a4dbee20-7918-4e94-a336-e40a9b0a640e",
   "metadata": {},
   "outputs": [
    {
     "name": "stdout",
     "output_type": "stream",
     "text": [
      "Palindrome\n"
     ]
    }
   ],
   "source": [
    "word = \"Never odd or even\"\n",
    "if ''.join(word.split()).lower() == ''.join(word[::-1].split()).lower(): \n",
    "    print(\"Palindrome\")\n",
    "else:\n",
    "    print(\"Not Palindrome\")"
   ]
  },
  {
   "cell_type": "markdown",
   "id": "e88a568f-2e04-4cb3-a199-ee1e7e25a314",
   "metadata": {},
   "source": [
    "5. Simulate a simple banking system with options to check balance, deposit, and withdraw money. Use \n",
    "functions for each option, and ensure the user cannot withdraw more than their balance."
   ]
  },
  {
   "cell_type": "code",
   "execution_count": 5,
   "id": "c88fad23-9067-4562-bea1-3c5cff5b6444",
   "metadata": {},
   "outputs": [],
   "source": [
    "class Bank: \n",
    "    def __init__(self,name,balance=0): \n",
    "        self.name = name\n",
    "        self.balance  = balance\n",
    "\n",
    "    def display(self):\n",
    "        print(f\"Bank Name {self.name} and Balance Rs.{self.balance} \")\n",
    "    def deposit(self,deposit_amount): \n",
    "        self.balance += deposit_amount\n",
    "        print(f\"Deposit Amount Rs.{deposit_amount} and total Balance Rs.{self.balance} \")\n",
    "    def withdraw(self,withdraw_amount): \n",
    "        if self.balance <= 0:\n",
    "            print(\"Sorry Insuffiction Balance\")\n",
    "        else:\n",
    "            self.balance -= withdraw_amount\n",
    "            print(f\"Withdraw Amount Rs.{withdraw_amount} and Current Balance Rs.{self.balance} \")"
   ]
  },
  {
   "cell_type": "code",
   "execution_count": 6,
   "id": "e320d36d-649f-4a9b-b38b-97918debc1b6",
   "metadata": {},
   "outputs": [
    {
     "name": "stdout",
     "output_type": "stream",
     "text": [
      "Bank Name HBL and Balance Rs.0 \n",
      "Sorry Insuffiction Balance\n",
      "Deposit Amount Rs.100 and total Balance Rs.100 \n",
      "Withdraw Amount Rs.50 and Current Balance Rs.50 \n",
      "Bank Name HBL and Balance Rs.50 \n"
     ]
    }
   ],
   "source": [
    "bank = Bank(\"HBL\")\n",
    "bank.display()\n",
    "bank.withdraw(50)\n",
    "bank.deposit(100)\n",
    "bank.withdraw(50)\n",
    "bank.display()"
   ]
  },
  {
   "cell_type": "markdown",
   "id": "fb4e14cf-8dc4-455c-b0f6-5642e0e4d795",
   "metadata": {},
   "source": [
    "6. Develop a two-player, text-based Tic-Tac-Toe game. The program should display the board after each \n",
    "move and declare the winner when one player achieves three in a row."
   ]
  },
  {
   "cell_type": "code",
   "execution_count": 7,
   "id": "b6f04717-960f-472c-bdf2-6e96f6b91e43",
   "metadata": {},
   "outputs": [
    {
     "name": "stdout",
     "output_type": "stream",
     "text": [
      "\n",
      "\n",
      "  |   |  \n",
      "---------\n",
      "  |   |  \n",
      "---------\n",
      "  |   |  \n",
      "\n",
      "\n",
      "Player X's turn.\n"
     ]
    },
    {
     "name": "stdin",
     "output_type": "stream",
     "text": [
      "Enter position (1-9):  1\n"
     ]
    },
    {
     "name": "stdout",
     "output_type": "stream",
     "text": [
      "\n",
      "\n",
      "X |   |  \n",
      "---------\n",
      "  |   |  \n",
      "---------\n",
      "  |   |  \n",
      "\n",
      "\n",
      "Player O's turn.\n"
     ]
    },
    {
     "name": "stdin",
     "output_type": "stream",
     "text": [
      "Enter position (1-9):  2\n"
     ]
    },
    {
     "name": "stdout",
     "output_type": "stream",
     "text": [
      "\n",
      "\n",
      "X | O |  \n",
      "---------\n",
      "  |   |  \n",
      "---------\n",
      "  |   |  \n",
      "\n",
      "\n",
      "Player X's turn.\n"
     ]
    },
    {
     "name": "stdin",
     "output_type": "stream",
     "text": [
      "Enter position (1-9):  3\n"
     ]
    },
    {
     "name": "stdout",
     "output_type": "stream",
     "text": [
      "\n",
      "\n",
      "X | O | X\n",
      "---------\n",
      "  |   |  \n",
      "---------\n",
      "  |   |  \n",
      "\n",
      "\n",
      "Player O's turn.\n"
     ]
    },
    {
     "name": "stdin",
     "output_type": "stream",
     "text": [
      "Enter position (1-9):  4\n"
     ]
    },
    {
     "name": "stdout",
     "output_type": "stream",
     "text": [
      "\n",
      "\n",
      "X | O | X\n",
      "---------\n",
      "O |   |  \n",
      "---------\n",
      "  |   |  \n",
      "\n",
      "\n",
      "Player X's turn.\n"
     ]
    },
    {
     "name": "stdin",
     "output_type": "stream",
     "text": [
      "Enter position (1-9):  5\n"
     ]
    },
    {
     "name": "stdout",
     "output_type": "stream",
     "text": [
      "\n",
      "\n",
      "X | O | X\n",
      "---------\n",
      "O | X |  \n",
      "---------\n",
      "  |   |  \n",
      "\n",
      "\n",
      "Player O's turn.\n"
     ]
    },
    {
     "name": "stdin",
     "output_type": "stream",
     "text": [
      "Enter position (1-9):  6\n"
     ]
    },
    {
     "name": "stdout",
     "output_type": "stream",
     "text": [
      "\n",
      "\n",
      "X | O | X\n",
      "---------\n",
      "O | X | O\n",
      "---------\n",
      "  |   |  \n",
      "\n",
      "\n",
      "Player X's turn.\n"
     ]
    },
    {
     "name": "stdin",
     "output_type": "stream",
     "text": [
      "Enter position (1-9):  7\n"
     ]
    },
    {
     "name": "stdout",
     "output_type": "stream",
     "text": [
      "\n",
      "\n",
      "X | O | X\n",
      "---------\n",
      "O | X | O\n",
      "---------\n",
      "X |   |  \n",
      "\n",
      "\n",
      "Player X wins!\n"
     ]
    }
   ],
   "source": [
    "board = [' ' for _ in range(9)]\n",
    "\n",
    "def display_board():\n",
    "    print(\"\\n\")\n",
    "    for i in range(3):\n",
    "        print(\" | \".join(board[i*3:(i+1)*3]))\n",
    "        if i < 2:\n",
    "            print(\"---------\")\n",
    "    print(\"\\n\")\n",
    "\n",
    "def check_winner(player):\n",
    "    win_conditions = [\n",
    "        [0, 1, 2], [3, 4, 5], [6, 7, 8],  \n",
    "        [0, 3, 6], [1, 4, 7], [2, 5, 8],  \n",
    "        [0, 4, 8], [2, 4, 6]              \n",
    "    ]\n",
    "   \n",
    "    return any(all(board[pos] == player for pos in combo) for combo in win_conditions)\n",
    "\n",
    "def is_board_full():\n",
    "    return ' ' not in board\n",
    "\n",
    "def play_game():\n",
    "    current_player = 'X' \n",
    "    \n",
    "    while True:\n",
    "        display_board()\n",
    "        print(f\"Player {current_player}'s turn.\")\n",
    "\n",
    "        try:\n",
    "            position = int(input(\"Enter position (1-9): \")) - 1\n",
    "        except ValueError:\n",
    "            print(\"Invalid input! Please enter a number between 1 and 9.\")\n",
    "            continue\n",
    "\n",
    "        if position < 0 or position >= 9 or board[position] != ' ':\n",
    "            print(\"Invalid position! Please choose an empty spot from 1 to 9.\")\n",
    "            continue\n",
    "\n",
    "        board[position] = current_player\n",
    "\n",
    "        if check_winner(current_player):\n",
    "            display_board()\n",
    "            print(f\"Player {current_player} wins!\")\n",
    "            break\n",
    "\n",
    "        if is_board_full():\n",
    "            display_board()\n",
    "            print(\"It's a tie!\")\n",
    "            break\n",
    "\n",
    "        current_player = 'O' if current_player == 'X' else 'X'\n",
    "\n",
    "play_game()\n"
   ]
  },
  {
   "cell_type": "markdown",
   "id": "5746e932-8861-4159-918b-08e21bf517b4",
   "metadata": {},
   "source": [
    "7. Write a program that encrypts a message using Caesar Cipher. Shift each letter by a given number \n",
    "(the shift amount) specified by the user, and display the encrypted message."
   ]
  },
  {
   "cell_type": "code",
   "execution_count": 10,
   "id": "3f969f3a-143b-4612-99b6-b6f69e302726",
   "metadata": {},
   "outputs": [
    {
     "name": "stdin",
     "output_type": "stream",
     "text": [
      "Enter the message to encrypt:  my name is hamza\n",
      "Enter the shift amount:  3\n"
     ]
    },
    {
     "name": "stdout",
     "output_type": "stream",
     "text": [
      "Encrypted message: pb qdph lv kdpcd\n"
     ]
    }
   ],
   "source": [
    "def caesar_cipher_encrypt(message, shift):\n",
    "    encrypted_message = \"\"\n",
    "    \n",
    "    for char in message:\n",
    "        if char.isupper():\n",
    "            encrypted_message += chr((ord(char) + shift - 65) % 26 + 65)\n",
    "        \n",
    "        elif char.islower():\n",
    "            encrypted_message += chr((ord(char) + shift - 97) % 26 + 97)\n",
    "        \n",
    "        else:\n",
    "            encrypted_message += char\n",
    "\n",
    "    return encrypted_message\n",
    "\n",
    "message = input(\"Enter the message to encrypt: \")\n",
    "shift = int(input(\"Enter the shift amount: \"))\n",
    "\n",
    "encrypted_message = caesar_cipher_encrypt(message, shift)\n",
    "\n",
    "print(\"Encrypted message:\", encrypted_message)\n"
   ]
  },
  {
   "cell_type": "code",
   "execution_count": 11,
   "id": "2e3f5238-7f17-4c45-9570-782d3c4bb97e",
   "metadata": {},
   "outputs": [
    {
     "name": "stdout",
     "output_type": "stream",
     "text": [
      "Decrypted message: my name is hamza\n"
     ]
    }
   ],
   "source": [
    "def caesar_decrypt(message, shift):\n",
    "    return caesar_cipher(message, - shift) \n",
    "decrypted_message = caesar_decrypt(encrypted_message, shift)\n",
    "print(f\"Decrypted message: {decrypted_message}\")\n"
   ]
  },
  {
   "cell_type": "markdown",
   "id": "57dd7c03-6fa3-4a68-9ebf-24c109d79e74",
   "metadata": {},
   "source": [
    "8. Create a basic to-do list application. The program should allow users to add tasks, mark tasks as \n",
    "complete, delete tasks, and view all tasks."
   ]
  },
  {
   "cell_type": "code",
   "execution_count": 12,
   "id": "6b0cca96-de15-4e23-9ddf-cce0f97412ab",
   "metadata": {
    "scrolled": true
   },
   "outputs": [
    {
     "name": "stdout",
     "output_type": "stream",
     "text": [
      "\n",
      "To-Do List Application\n",
      "1. Add Task\n",
      "2. Mark Task as Completed\n",
      "3. Delete Task\n",
      "4. View Tasks\n",
      "5. Exit\n"
     ]
    },
    {
     "name": "stdin",
     "output_type": "stream",
     "text": [
      "Enter your choice:  5\n"
     ]
    },
    {
     "name": "stdout",
     "output_type": "stream",
     "text": [
      "Exiting the To-Do List application.\n"
     ]
    }
   ],
   "source": [
    "class To_do_list:\n",
    "    def __init__(self):\n",
    "        self.tasks = []\n",
    "\n",
    "    def add_task(self, task):\n",
    "        self.tasks.append({'Task': task, 'Completed': False})\n",
    "        print(f\"Task '{task}' added.\")\n",
    "\n",
    "    def mark_completed(self, task_index):\n",
    "        if 0 <= task_index < len(self.tasks):\n",
    "            self.tasks[task_index]['Completed'] = True\n",
    "            print(f\"Task '{self.tasks[task_index]['Task']}' marked as completed.\")\n",
    "        else:\n",
    "            print(\"Invalid task index.\")\n",
    "\n",
    "    def delete_task(self, task_index):\n",
    "        if 0 <= task_index < len(self.tasks):\n",
    "            removed_task = self.tasks.pop(task_index)\n",
    "            print(f\"Task '{removed_task['Task']}' deleted.\")\n",
    "        else:\n",
    "            print(\"Invalid task index.\")\n",
    "\n",
    "    def view_tasks(self):\n",
    "        if not self.tasks:\n",
    "            print(\"No tasks available.\")\n",
    "        else:\n",
    "            for index, task in enumerate(self.tasks):\n",
    "                status = \"Completed\" if task['Completed'] else \"Pending\"\n",
    "                print(f\"{index + 1}. {task['Task']} - {status}\")\n",
    "\n",
    "def main():\n",
    "    todo_list = To_do_list()\n",
    "\n",
    "    while True:\n",
    "        print(\"\\nTo-Do List Application\")\n",
    "        print(\"1. Add Task\")\n",
    "        print(\"2. Mark Task as Completed\")\n",
    "        print(\"3. Delete Task\")\n",
    "        print(\"4. View Tasks\")\n",
    "        print(\"5. Exit\")\n",
    "\n",
    "        choice = input(\"Enter your choice: \")\n",
    "\n",
    "        if choice == '1':\n",
    "            task = input(\"Enter the task to add: \")\n",
    "            todo_list.add_task(task)\n",
    "        elif choice == '2':\n",
    "            todo_list.view_tasks()\n",
    "            task_index = int(input(\"Enter task number to mark as completed: \")) - 1\n",
    "            todo_list.mark_completed(task_index)\n",
    "        elif choice == '3':\n",
    "            todo_list.view_tasks()\n",
    "            task_index = int(input(\"Enter task number to delete: \")) - 1\n",
    "            todo_list.delete_task(task_index)\n",
    "        elif choice == '4':\n",
    "            todo_list.view_tasks()\n",
    "        elif choice == '5':\n",
    "            print(\"Exiting the To-Do List application.\")\n",
    "            break\n",
    "        else:\n",
    "            print(\"Invalid choice. Please try again.\")\n",
    "\n",
    "if __name__ == \"__main__\":\n",
    "    main()\n"
   ]
  },
  {
   "cell_type": "markdown",
   "id": "9c837972-5724-4baa-9a20-d53dfc206b45",
   "metadata": {},
   "source": [
    "9. Create a shopping cart system where the user can add, remove, and view items. Each item should\n",
    "have a name, quantity, and price, and the program should display the total cost of items in the cart.\n"
   ]
  },
  {
   "cell_type": "code",
   "execution_count": 13,
   "id": "a223d399-56f4-445c-873d-1b5323755a96",
   "metadata": {
    "scrolled": true
   },
   "outputs": [
    {
     "name": "stdout",
     "output_type": "stream",
     "text": [
      "\n",
      "Options:\n",
      "1. Add item\n",
      "2. Remove item\n",
      "3. View cart\n",
      "4. Exit\n"
     ]
    },
    {
     "name": "stdin",
     "output_type": "stream",
     "text": [
      "Enter your choice:  4\n"
     ]
    },
    {
     "name": "stdout",
     "output_type": "stream",
     "text": [
      "Exiting the shopping cart system. Goodbye!\n"
     ]
    }
   ],
   "source": [
    "class Shopping_cart:\n",
    "    def __init__(self):\n",
    "        self.list = []\n",
    "\n",
    "    def add(self, name, quantity):\n",
    "        for item in self.list:\n",
    "            if item['name'] == name:\n",
    "                item['quantity'] += quantity\n",
    "                print(f\"{quantity} more of {name} added to the list.\")\n",
    "                return\n",
    "        self.list.append({'name': name, 'quantity': quantity})\n",
    "        print(f\"{quantity} of {name} added to the list.\")\n",
    "\n",
    "    def remove(self, name):\n",
    "        for item in self.list:\n",
    "            if item['name'] == name:\n",
    "                self.list.remove(item)\n",
    "                print(f\"{name} removed from the list.\")\n",
    "                return\n",
    "        print(f\"{name} not found in the list.\")\n",
    "\n",
    "    def view(self):\n",
    "        if not self.list:\n",
    "            print(\"Your list is empty.\")\n",
    "            return\n",
    "        print(\"\\nItems in your list:\")\n",
    "        for item in self.list:\n",
    "            print(f\"{item['name']} - Quantity: {item['quantity']}\")\n",
    "\n",
    "cart = Shopping_cart()\n",
    "\n",
    "while True:\n",
    "    print(\"\\nOptions:\")\n",
    "    print(\"1. Add item\")\n",
    "    print(\"2. Remove item\")\n",
    "    print(\"3. View cart\")\n",
    "    print(\"4. Exit\")\n",
    "    choice = input(\"Enter your choice: \")\n",
    "\n",
    "    if choice == '1':\n",
    "        name = input(\"Enter item name: \")\n",
    "        quantity = int(input(\"Enter quantity: \"))\n",
    "        cart.add(name, quantity)\n",
    "    elif choice == '2':\n",
    "        name = input(\"Enter item name to remove: \")\n",
    "        cart.remove(name)\n",
    "    elif choice == '3':\n",
    "        cart.view()\n",
    "    elif choice == '4':\n",
    "        print(\"Exiting the shopping cart system. Goodbye!\")\n",
    "        break\n",
    "    else:\n",
    "        print(\"Invalid choice! Please try again.\")"
   ]
  },
  {
   "cell_type": "markdown",
   "id": "3eda23ff-4498-48d5-99a6-2197b8a581b9",
   "metadata": {},
   "source": [
    "10. Write a program that converts units between different measurement systems (e.g., inches to\n",
    "centimeters, pounds to kilograms). The user should specify the type of conversion and enter the value to\n",
    "convert."
   ]
  },
  {
   "cell_type": "code",
   "execution_count": 14,
   "id": "17ad0bbd-f409-4a03-91da-d5db98d8b97a",
   "metadata": {
    "scrolled": true
   },
   "outputs": [
    {
     "name": "stdin",
     "output_type": "stream",
     "text": [
      "Enter the value to convert: 1\n"
     ]
    },
    {
     "name": "stdout",
     "output_type": "stream",
     "text": [
      "1.0 inches is equal to 2.54 centimeters.\n"
     ]
    },
    {
     "name": "stdin",
     "output_type": "stream",
     "text": [
      "Enter the value to convert: 1\n"
     ]
    },
    {
     "name": "stdout",
     "output_type": "stream",
     "text": [
      "1.0 centimeters is equal to 0.39370078740157477 inches.\n"
     ]
    },
    {
     "name": "stdin",
     "output_type": "stream",
     "text": [
      "Enter the value to convert: 1\n"
     ]
    },
    {
     "name": "stdout",
     "output_type": "stream",
     "text": [
      "1.0 pounds is equal to 0.453592 kilograms.\n"
     ]
    },
    {
     "name": "stdin",
     "output_type": "stream",
     "text": [
      "Enter the value to convert: 1\n"
     ]
    },
    {
     "name": "stdout",
     "output_type": "stream",
     "text": [
      "1.0 kilograms is equal to 2.2046244201837775 pounds.\n"
     ]
    }
   ],
   "source": [
    "def inches_to_centimeters():\n",
    "    value = float(input(\"Enter the value to convert:\"))\n",
    "    result = value * 2.54  # 1 inch = 2.54 cm\n",
    "    print(f\"{value} inches is equal to {result} centimeters.\")\n",
    "def centimeters_to_inches(): \n",
    "    value = float(input(\"Enter the value to convert:\"))\n",
    "    result = value / 2.54  # 1 cm = 1/2.54 inches\n",
    "    print(f\"{value} centimeters is equal to {result} inches.\")\n",
    "def pounds_to_kilograms():\n",
    "    value = float(input(\"Enter the value to convert:\"))\n",
    "    result = value * 0.453592  # 1 pound = 0.453592 kg\n",
    "    print(f\"{value} pounds is equal to {result} kilograms.\")\n",
    "def kilograms_to_pounds():\n",
    "    value = float(input(\"Enter the value to convert:\"))\n",
    "    result = value / 0.453592  # 1 kg = 1/0.453592 pounds\n",
    "    print(f\"{value} kilograms is equal to {result} pounds.\")\n",
    "\n",
    "inches_to_centimeters()\n",
    "centimeters_to_inches()\n",
    "pounds_to_kilograms()\n",
    "kilograms_to_pounds()\n"
   ]
  },
  {
   "cell_type": "markdown",
   "id": "866c6b74-4558-4799-b9e8-345c1e934ece",
   "metadata": {},
   "source": [
    "11. Create a script that organizes files in a directory into folders based on their file types (e.g., images,\n",
    "documents, videos). Use lists to define file extensions for each category.\n"
   ]
  },
  {
   "cell_type": "code",
   "execution_count": 15,
   "id": "c4fe4582-9acc-45e4-a9e7-0f64832a578f",
   "metadata": {
    "scrolled": true
   },
   "outputs": [
    {
     "name": "stdin",
     "output_type": "stream",
     "text": [
      "Enter the directory path to organize:   F:\\\n"
     ]
    },
    {
     "name": "stdout",
     "output_type": "stream",
     "text": [
      "Error: The directory ' F:\\' does not exist.\n"
     ]
    }
   ],
   "source": [
    "import os\n",
    "import shutil\n",
    "\n",
    "file_categories = {\n",
    "    \"Images\": [\".jpg\", \".jpeg\", \".png\", \".gif\", \".bmp\", \".tiff\"],\n",
    "    \"Documents\": [\".pdf\", \".doc\", \".docx\", \".txt\", \".xls\", \".xlsx\", \".ppt\", \".pptx\"],\n",
    "    \"Videos\": [\".mp4\", \".mkv\", \".avi\", \".mov\", \".wmv\", \".flv\"],\n",
    "    \"Audio\": [\".mp3\", \".wav\", \".aac\", \".flac\", \".ogg\"],\n",
    "    \"Archives\": [\".zip\", \".rar\", \".7z\", \".tar\", \".gz\"],\n",
    "    \"Scripts\": [\".py\", \".js\", \".java\", \".cpp\", \".html\", \".css\"],\n",
    "    \"Others\": []\n",
    "}\n",
    "\n",
    "directory_path = input(\"Enter the directory path to organize: \")\n",
    "\n",
    "def organize_files(directory):\n",
    "    if not os.path.exists(directory):\n",
    "        print(f\"Error: The directory '{directory}' does not exist.\")\n",
    "        return\n",
    "\n",
    "    for file_name in os.listdir(directory):\n",
    "        file_path = os.path.join(directory, file_name)\n",
    "\n",
    "        if os.path.isdir(file_path):\n",
    "            continue\n",
    "\n",
    "        _, file_extension = os.path.splitext(file_name)\n",
    "        file_extension = file_extension.lower()\n",
    "\n",
    "        target_folder = \"Others\"\n",
    "        for category, extensions in file_categories.items():\n",
    "            if file_extension in extensions:\n",
    "                target_folder = category\n",
    "                break\n",
    "\n",
    "        target_folder_path = os.path.join(directory, target_folder)\n",
    "        os.makedirs(target_folder_path, exist_ok=True)\n",
    "\n",
    "        shutil.move(file_path, os.path.join(target_folder_path, file_name))\n",
    "        print(f\"Moved '{file_name}' to '{target_folder}'.\")\n",
    "\n",
    "    print(\"File organization complete!\")\n",
    "\n",
    "organize_files(directory_path)\n"
   ]
  },
  {
   "cell_type": "markdown",
   "id": "e3545019-118d-4070-8fb2-6ffc070b4cd1",
   "metadata": {},
   "source": [
    "12. Write a program to manage student grades. Let the user add students with their names and scores,\n",
    "calculate the average score, and determine the highest and lowest scores."
   ]
  },
  {
   "cell_type": "code",
   "execution_count": 16,
   "id": "0be1965d-b295-4786-aa0d-f6aac8c8958d",
   "metadata": {},
   "outputs": [
    {
     "name": "stdout",
     "output_type": "stream",
     "text": [
      "\n",
      "Student Grade Manager\n",
      "1. Add Student\n",
      "2. Calculate Average\n",
      "3. Find Highest Score\n",
      "4. Find Lowest Score\n",
      "5. Display Students\n",
      "6. Exit\n"
     ]
    },
    {
     "name": "stdin",
     "output_type": "stream",
     "text": [
      "Choose an option:  6\n"
     ]
    },
    {
     "name": "stdout",
     "output_type": "stream",
     "text": [
      "Exiting program.\n"
     ]
    }
   ],
   "source": [
    "class Student_Grade_Manager:\n",
    "    def __init__(self):\n",
    "        self.students = {}\n",
    "\n",
    "    def add(self, name, score):\n",
    "        if 0 <= score <= 100:AssertionError\n",
    "            self.students[name] = score\n",
    "            print(f\"Student {name} added with score {score}.\")\n",
    "        else:\n",
    "            print(\"Invalid score. Please enter a score between 0 and 100.\")\n",
    "\n",
    "    def average(self):\n",
    "        if self.students:\n",
    "            average = sum(self.students.values()) / len(self.students)\n",
    "            print(f\"Average score: {average}\")\n",
    "        else:\n",
    "            print(\"No students added.\")\n",
    "\n",
    "    def find_highest(self):\n",
    "        if self.students:\n",
    "            highest_student = max(self.students, key=self.students.get)\n",
    "            print(f\"Highest score: {self.students[highest_student]} (Student: {highest_student})\")\n",
    "        else:\n",
    "            print(\"No students added.\")\n",
    "\n",
    "    def find_lowest(self):\n",
    "        if self.students:\n",
    "            lowest_student = min(self.students, key=self.students.get)\n",
    "            print(f\"Lowest score: {self.students[lowest_student]} (Student: {lowest_student})\")\n",
    "        else:\n",
    "            print(\"No students added.\")\n",
    "\n",
    "    def display(self):\n",
    "        if self.students:\n",
    "            print(\"Students and Scores:\")\n",
    "            for name, score in self.students.items():\n",
    "                print(f\"{name}: {score}\")\n",
    "        else:\n",
    "            print(\"No students added.\")\n",
    "\n",
    "def main():\n",
    "    manager = Student_Grade_Manager()\n",
    "\n",
    "    while True:\n",
    "        print(\"\\nStudent Grade Manager\")\n",
    "        print(\"1. Add Student\")\n",
    "        print(\"2. Calculate Average\")\n",
    "        print(\"3. Find Highest Score\")\n",
    "        print(\"4. Find Lowest Score\")\n",
    "        print(\"5. Display Students\")\n",
    "        print(\"6. Exit\")\n",
    "\n",
    "        choice = input(\"Choose an option: \")\n",
    "\n",
    "        if choice == \"1\":\n",
    "            name = input(\"Enter student name: \")\n",
    "            score = float(input(\"Enter student score: \"))\n",
    "            manager.add(name, score)\n",
    "        elif choice == \"2\":\n",
    "            manager.average()\n",
    "        elif choice == \"3\":\n",
    "            manager.find_highest()\n",
    "        elif choice == \"4\":\n",
    "            manager.find_lowest()\n",
    "        elif choice == \"5\":\n",
    "            manager.display()\n",
    "        elif choice == \"6\":\n",
    "            print(\"Exiting program.\")\n",
    "            break\n",
    "        else:\n",
    "            print(\"Invalid option. Please choose again.\")\n",
    "\n",
    "if __name__ == \"__main__\":\n",
    "    main()\n",
    "\n"
   ]
  },
  {
   "cell_type": "markdown",
   "id": "bcd11563-86d3-4866-b9cb-bf32112737d2",
   "metadata": {},
   "source": [
    "13. Create a text-based quiz with at least five questions. Allow the user to answer each question and\n",
    "keep track of their score. Display the final score at the end."
   ]
  },
  {
   "cell_type": "code",
   "execution_count": 17,
   "id": "d03afe87-46b5-4ddb-ae1b-e2a7f709d548",
   "metadata": {
    "scrolled": true
   },
   "outputs": [
    {
     "name": "stdout",
     "output_type": "stream",
     "text": [
      "Question 1: Which of the following is the correct extension of a Python file?\n",
      "1.  .python                      2.  .pl                 \n",
      "3.  .py                          4.  .p                  \n"
     ]
    },
    {
     "name": "stdin",
     "output_type": "stream",
     "text": [
      "Enter your answer(1,2,3,4) or 0 to quit:\n",
      " 3\n"
     ]
    },
    {
     "name": "stdout",
     "output_type": "stream",
     "text": [
      "Correct answer!\n",
      "Question 2: What do we use to define a block of code in Python?\n",
      "1.  Curly braces { }             2.  Parentheses ( )     \n",
      "3.  Indentation                  4.  Square brackets [ ] \n"
     ]
    },
    {
     "name": "stdin",
     "output_type": "stream",
     "text": [
      "Enter your answer(1,2,3,4) or 0 to quit:\n",
      " 3\n"
     ]
    },
    {
     "name": "stdout",
     "output_type": "stream",
     "text": [
      "Correct answer!\n",
      "Question 3: Which of the following is a Python keyword?\n",
      "1.  switch                       2.  def                 \n",
      "3.  function                     4.  constant            \n"
     ]
    },
    {
     "name": "stdin",
     "output_type": "stream",
     "text": [
      "Enter your answer(1,2,3,4) or 0 to quit:\n",
      " 2\n"
     ]
    },
    {
     "name": "stdout",
     "output_type": "stream",
     "text": [
      "Correct answer!\n",
      "Question 4: What is the output of print(type(10))?\n",
      "1.  <class 'float'>              2.  <class 'int'>       \n",
      "3.  <class 'number'>             4.  <class 'long'>      \n"
     ]
    },
    {
     "name": "stdin",
     "output_type": "stream",
     "text": [
      "Enter your answer(1,2,3,4) or 0 to quit:\n",
      " 2\n"
     ]
    },
    {
     "name": "stdout",
     "output_type": "stream",
     "text": [
      "Correct answer!\n",
      "Question 5: What is the correct syntax for creating a function in Python?\n",
      "1.  function myfunc():           2.  def myfunc():       \n",
      "3.  create myfunc():             4.  func myfunc():      \n"
     ]
    },
    {
     "name": "stdin",
     "output_type": "stream",
     "text": [
      "Enter your answer(1,2,3,4) or 0 to quit:\n",
      " 2\n"
     ]
    },
    {
     "name": "stdout",
     "output_type": "stream",
     "text": [
      "Correct answer!\n",
      "\n",
      "Quiz finished. Your final score is 5/5\n"
     ]
    }
   ],
   "source": [
    "questions = [\n",
    "    [\"Which of the following is the correct extension of a Python file?\", \".python\", \".pl\", \".py\", \".p\", 3],\n",
    "    [\"What do we use to define a block of code in Python?\", \"Curly braces { }\", \"Parentheses ( )\", \"Indentation\", \"Square brackets [ ]\", 3],\n",
    "    [\"Which of the following is a Python keyword?\", \"switch\", \"def\", \"function\", \"constant\", 2],\n",
    "    [\"What is the output of print(type(10))?\", \"<class 'float'>\", \"<class 'int'>\", \"<class 'number'>\", \"<class 'long'>\", 2],\n",
    "    [\"What is the correct syntax for creating a function in Python?\", \"function myfunc():\", \"def myfunc():\", \"create myfunc():\", \"func myfunc():\", 2],\n",
    "]\n",
    "score = 0\n",
    "\n",
    "   \n",
    "for i in range(0, len(questions)): \n",
    "    question = questions[i]\n",
    "    print(f\"Question {i+1}: {question[0]}\")\n",
    "    print(f\"1.  {questions[i][1]:<20}         2.  {questions[i][2]:<20}\")\n",
    "    print(f\"3.  {questions[i][3]:<20}         4.  {questions[i][4]:<20}\")\n",
    "    reply = int(input(\"Enter your answer(1,2,3,4) or 0 to quit:\\n\"))\n",
    "    if reply == questions[i][-1]:\n",
    "            score += 1\n",
    "            print(\"Correct answer!\")\n",
    "    else:\n",
    "        print(f\"Wrong answer. The correct answer is {questions[i][-1]}.\")\n",
    "print(f\"\\nQuiz finished. Your final score is {score}/{len(questions)}\")\n",
    "\n"
   ]
  },
  {
   "cell_type": "markdown",
   "id": "002cbac0-5598-4c1e-83e2-19ca13a4b5cd",
   "metadata": {},
   "source": [
    "14. Write a program that manages a small library of books. Each book should have a title, author, and\n",
    "genre. The program should allow the user to add books, search for books by title, and view all books in\n",
    "the library."
   ]
  },
  {
   "cell_type": "code",
   "execution_count": 18,
   "id": "ff66a892-f92b-4f30-8b25-c76406c20a43",
   "metadata": {},
   "outputs": [
    {
     "name": "stdout",
     "output_type": "stream",
     "text": [
      "\n",
      "Library Management\n",
      "1. Add Book\n",
      "2. Search Book\n",
      "3. View Books\n",
      "4. Exit\n"
     ]
    },
    {
     "name": "stdin",
     "output_type": "stream",
     "text": [
      "Choose an option:  4\n"
     ]
    },
    {
     "name": "stdout",
     "output_type": "stream",
     "text": [
      "Exiting library management.\n"
     ]
    }
   ],
   "source": [
    "class Book():\n",
    "    def __init__(self, title, author, genre):\n",
    "        self.title = title\n",
    "        self.author = author\n",
    "        self.genre = genre\n",
    "\n",
    "    def __str__(self):\n",
    "        return f\"'{self.title}' by {self.author} ({self.genre})\"\n",
    "\n",
    "class Library():\n",
    "    def __init__(self):\n",
    "        self.books = []\n",
    "\n",
    "    def add_book(self, title, author, genre):\n",
    "        book = Book(title, author, genre)\n",
    "        self.books.append(book)\n",
    "        print(f\"Added '{book.title}' to the library.\")\n",
    "\n",
    "    def search_book(self, title):\n",
    "        for book in self.books:\n",
    "            if book.title.lower() == title.lower():\n",
    "                return book\n",
    "        return None\n",
    "\n",
    "    def view_books(self):\n",
    "        if self.books:\n",
    "            print(\"Books in library:\")\n",
    "            for book in self.books:\n",
    "                print(book)\n",
    "        else:\n",
    "            print(\"Library is empty.\")\n",
    "\n",
    "def main():\n",
    "    library = Library()\n",
    "\n",
    "    while True:\n",
    "        print(\"\\nLibrary Management\")\n",
    "        print(\"1. Add Book\")\n",
    "        print(\"2. Search Book\")\n",
    "        print(\"3. View Books\")\n",
    "        print(\"4. Exit\")\n",
    "\n",
    "        choice = input(\"Choose an option: \")\n",
    "\n",
    "        if choice == \"1\":\n",
    "            title = input(\"Enter book title: \")\n",
    "            author = input(\"Enter book author: \")\n",
    "            genre = input(\"Enter book genre: \")\n",
    "            library.add_book(title, author, genre)\n",
    "        elif choice == \"2\":\n",
    "            title = input(\"Enter book title to search: \")\n",
    "            book = library.search_book(title)\n",
    "            if book:\n",
    "                print(f\"Found '{book.title}'\")\n",
    "            else:\n",
    "                print(f\"'{title}' not found in library.\")\n",
    "        elif choice == \"3\":\n",
    "            library.view_books()\n",
    "        elif choice == \"4\":\n",
    "            print(\"Exiting library management.\")\n",
    "            break\n",
    "        else:\n",
    "            print(\"Invalid option. Please choose again.\")\n",
    "\n",
    "if __name__ == \"__main__\":\n",
    "    main()\n"
   ]
  },
  {
   "cell_type": "markdown",
   "id": "d269a897-b0f1-426a-90f3-79b166324ef7",
   "metadata": {},
   "source": [
    "15. Create a function that checks if a given number is prime and another function that generates a list of\n",
    "prime numbers up to a given limit."
   ]
  },
  {
   "cell_type": "code",
   "execution_count": 19,
   "id": "50522779-9c1a-4f4f-a274-3b0e8757157d",
   "metadata": {},
   "outputs": [
    {
     "name": "stdout",
     "output_type": "stream",
     "text": [
      "Check if a number is prime:\n"
     ]
    },
    {
     "name": "stdin",
     "output_type": "stream",
     "text": [
      "Enter a number:  9\n"
     ]
    },
    {
     "name": "stdout",
     "output_type": "stream",
     "text": [
      "9 is not a prime number.\n",
      "\n",
      "Generate prime numbers up to a limit:\n"
     ]
    },
    {
     "name": "stdin",
     "output_type": "stream",
     "text": [
      "Enter the limit:  9\n"
     ]
    },
    {
     "name": "stdout",
     "output_type": "stream",
     "text": [
      "Prime numbers up to 9: [2, 3, 5, 7]\n"
     ]
    }
   ],
   "source": [
    "def is_prime(number):\n",
    "    if number <= 1:\n",
    "        return False\n",
    "    for i in range(2, int(number ** 0.5) + 1): \n",
    "        if number % i == 0:\n",
    "            return False\n",
    "    return True\n",
    "\n",
    "def generate_primes(limit):\n",
    "    primes = []\n",
    "    for num in range(2, limit + 1):\n",
    "        if is_prime(num):\n",
    "            primes.append(num)\n",
    "    return primes\n",
    "\n",
    "print(\"Check if a number is prime:\")\n",
    "num = int(input(\"Enter a number: \"))\n",
    "if is_prime(num):\n",
    "    print(f\"{num} is a prime number.\")\n",
    "else:\n",
    "    print(f\"{num} is not a prime number.\")\n",
    "\n",
    "print(\"\\nGenerate prime numbers up to a limit:\")\n",
    "limit = int(input(\"Enter the limit: \"))\n",
    "prime_list = generate_primes(limit)\n",
    "print(f\"Prime numbers up to {limit}: {prime_list}\")\n"
   ]
  },
  {
   "cell_type": "markdown",
   "id": "56c45920-3fe0-4c27-94f7-711ebe9272a4",
   "metadata": {},
   "source": [
    "16. Write a program that checks if a given 3x3 list of lists is a magic square (where the sum of every row,\n",
    "column, and diagonal is the same)."
   ]
  },
  {
   "cell_type": "code",
   "execution_count": 20,
   "id": "cb7611c4-63bc-4197-9ddd-98f21268b379",
   "metadata": {},
   "outputs": [
    {
     "name": "stdout",
     "output_type": "stream",
     "text": [
      "Matrix:\n",
      "[8, 1, 6]\n",
      "[3, 5, 7]\n",
      "[4, 9, 2]\n",
      "The matrix is a magic square.\n"
     ]
    }
   ],
   "source": [
    "def magic_square(matrix): \n",
    "    if len(matrix) != 3:\n",
    "        print(\"The matrix does not have 3 rows.\")\n",
    "        is_valid = False\n",
    "    else:\n",
    "        is_valid = True\n",
    "        for row in matrix:\n",
    "            if len(row) != 3:\n",
    "                print(\"One of the rows does not have 3 elements.\")\n",
    "                is_valid = False\n",
    "                break\n",
    "    \n",
    "    if not is_valid:\n",
    "        print(\"The matrix is not 3x3.\")\n",
    "        \n",
    "    magic_sum = sum(matrix[0])\n",
    "\n",
    "    for row in matrix:\n",
    "        if sum(row) != magic_sum:\n",
    "            return False\n",
    "\n",
    "    for col in range(3):\n",
    "        if sum(matrix[row][col] for row in range(3)) != magic_sum:\n",
    "            return False\n",
    "\n",
    "    if sum(matrix[i][i] for i in range(3)) != magic_sum:\n",
    "        return False\n",
    "    if sum(matrix[i][2 - i] for i in range(3)) != magic_sum:\n",
    "        return False\n",
    "\n",
    "    return True\n",
    "\n",
    "matrix = [\n",
    "    [8, 1, 6],\n",
    "    [3, 5, 7],\n",
    "    [4, 9, 2]\n",
    "]\n",
    "\n",
    "print(\"Matrix:\")\n",
    "for row in matrix:\n",
    "    print(row)\n",
    "\n",
    "if magic_square(matrix):\n",
    "    print(\"The matrix is a magic square.\")\n",
    "else:\n",
    "    print(\"The matrix is not a magic square.\")\n"
   ]
  },
  {
   "cell_type": "markdown",
   "id": "c1166a26-4841-4d4f-914f-1bced4eb735a",
   "metadata": {},
   "source": [
    "17. Create a program that reads a text file and counts the frequency of each word in the file. Print the\n",
    "top five most common words along with their counts."
   ]
  },
  {
   "cell_type": "code",
   "execution_count": 21,
   "id": "e73d99a1-2c72-46d3-972b-8a6bf885e8d7",
   "metadata": {},
   "outputs": [
    {
     "name": "stdout",
     "output_type": "stream",
     "text": [
      "Top 5 most common words:\n",
      "smit: 4\n",
      "is: 2\n",
      "i: 2\n",
      "learning: 2\n",
      "python: 2\n"
     ]
    }
   ],
   "source": [
    "from collections import Counter\n",
    "\n",
    "def count_frequency(file_path):\n",
    "    with open(file_path, 'r') as file:\n",
    "        text = file.read().lower()\n",
    "    \n",
    "    words = text.split()\n",
    "    words = [word.strip('.,!?()[]{}:;\"\\'') for word in words]\n",
    "    \n",
    "    word_counts = Counter(words)\n",
    "    top_five = word_counts.most_common(5)\n",
    "    \n",
    "    print(\"Top 5 most common words:\")\n",
    "    for word, count in top_five:\n",
    "        print(f\"{word}: {count}\")\n",
    "\n",
    "file_path = 'sample.txt'  \n",
    "count_frequency(file_path)\n"
   ]
  },
  {
   "cell_type": "markdown",
   "id": "e067cc58-d658-4331-b5f3-f68c00e32dd2",
   "metadata": {},
   "source": [
    "Mini Project: Expense Tracker\n",
    "Objective: Develop a text-based expense tracking application.\n",
    "Instructions:\n",
    " Allow the user to add expenses with a description, category (e.g., food, travel), and amount.\n",
    " Display a summary of total expenses, along with the breakdown by category.\n",
    " Add an option to display expenses within a specified date range.\n",
    " Allow the user to remove an expense by description or date.\n",
    " Provide an option to save and load expenses from a text file, so that the tracker can retain data\n",
    "even after restarting."
   ]
  },
  {
   "cell_type": "code",
   "execution_count": 22,
   "id": "c06b7cac-a8d0-4400-832d-97f34f98b70b",
   "metadata": {},
   "outputs": [
    {
     "name": "stdout",
     "output_type": "stream",
     "text": [
      "\n",
      "Expense Tracker\n",
      "1. Add Expense\n",
      "2. Display Summary\n",
      "3. Display Expenses by Date\n",
      "4. Remove Expense\n",
      "5. Save Expenses\n",
      "6. Load Expenses\n",
      "7. Exit\n"
     ]
    },
    {
     "name": "stdin",
     "output_type": "stream",
     "text": [
      "Choose an option:  7\n"
     ]
    },
    {
     "name": "stdout",
     "output_type": "stream",
     "text": [
      "Exiting expense tracker.\n"
     ]
    }
   ],
   "source": [
    "import datetime\n",
    "\n",
    "class ExpenseTracker:\n",
    "    def __init__(self):\n",
    "        self.expenses = []\n",
    "\n",
    "    def add_expense(self):\n",
    "        description = input(\"Enter expense description: \")\n",
    "        category = input(\"Enter expense category: \")\n",
    "        amount = float(input(\"Enter expense amount: \"))\n",
    "        date = input(\"Enter expense date (YYYY-MM-DD): \")\n",
    "        self.expenses.append({\n",
    "            \"description\": description,\n",
    "            \"category\": category,\n",
    "            \"amount\": amount,\n",
    "            \"date\": datetime.datetime.strptime(date, \"%Y-%m-%d\")\n",
    "        })\n",
    "        print(\"Expense added successfully.\")\n",
    "\n",
    "    def display_summary(self):\n",
    "        total_expenses = sum(expense[\"amount\"] for expense in self.expenses)\n",
    "        category_breakdown = {}\n",
    "        for expense in self.expenses:\n",
    "            category = expense[\"category\"]\n",
    "            if category in category_breakdown:\n",
    "                category_breakdown[category] += expense[\"amount\"]\n",
    "            else:\n",
    "                category_breakdown[category] = expense[\"amount\"]\n",
    "        print(f\"Total expenses: Rs{total_expenses}\")\n",
    "        print(\"Breakdown category\")\n",
    "        for category, amount in category_breakdown.items():\n",
    "            print(f\"{category}: Rs{amount}\")\n",
    "\n",
    "    def display_expenses_by_date(self):\n",
    "        start_date = input(\"Enter start date (YYYY-MM-DD): \")\n",
    "        start_date = datetime.datetime.strptime(start_date, \"%Y-%m-%d\")\n",
    "        end_date = input(\"Enter end date (YYYY-MM-DD): \")\n",
    "        end_date = datetime.datetime.strptime(end_date, \"%Y-%m-%d\")\n",
    "        filtered_expenses = [expense for expense in self.expenses if start_date <= expense[\"date\"] <= end_date]\n",
    "        if filtered_expenses:\n",
    "            print(\"Expenses within the specified date range:\")\n",
    "            for expense in filtered_expenses:\n",
    "                print(f\"{expense['description']}: Rs{expense['amount']} on {expense['date'].strftime('%Y-%m-%d')}\")\n",
    "        else:\n",
    "            print(\"No expenses found within the specified date range.\")\n",
    "\n",
    "    def remove_expense(self):\n",
    "        option = input(\"Remove expense by (1) description or (2) date: \")\n",
    "        if option == \"1\":\n",
    "            description = input(\"Enter expense description: \")\n",
    "            self.expenses = [expense for expense in self.expenses if expense[\"description\"] != description]\n",
    "            print(\"Expense removed successfully.\")\n",
    "        elif option == \"2\":\n",
    "            date = input(\"Enter expense date (YYYY-MM-DD): \")\n",
    "            date = datetime.datetime.strptime(date, \"%Y-%m-%d\")\n",
    "            self.expenses = [expense for expense in self.expenses if expense[\"date\"] != date]\n",
    "            print(\"Expense removed successfully.\")\n",
    "        else:\n",
    "            print(\"Invalid option.\")\n",
    "\n",
    "    def save_expenses(self):\n",
    "        file_name = input(\"Enter file name: \")\n",
    "        with open(file_name, \"w\") as file:\n",
    "            for expense in self.expenses:\n",
    "                file.write(f\"{expense['description']},{expense['category']},{expense['amount']},{expense['date'].strftime('%Y-%m-%d')}\\n\")\n",
    "        print(\"Expenses saved successfully.\")\n",
    "\n",
    "    def load_expenses(self):\n",
    "        file_name = input(\"Enter file name: \")\n",
    "        try:\n",
    "            with open(file_name, \"r\") as file:\n",
    "                for line in file.readlines():\n",
    "                    description, category, amount, date = line.strip().split(\",\")\n",
    "                    self.expenses.append({\n",
    "                        \"description\": description,\n",
    "                        \"category\": category,\n",
    "                        \"amount\": float(amount),\n",
    "                        \"date\": datetime.datetime.strptime(date, \"%Y-%m-%d\")\n",
    "                    })\n",
    "            print(\"Expenses loaded successfully.\")\n",
    "        except FileNotFoundError:\n",
    "            print(\"File not found.\")\n",
    "\n",
    "def main():\n",
    "    tracker = ExpenseTracker()\n",
    "    while True:\n",
    "        print(\"\\nExpense Tracker\")\n",
    "        print(\"1. Add Expense\")\n",
    "        print(\"2. Display Summary\")\n",
    "        print(\"3. Display Expenses by Date\")\n",
    "        print(\"4. Remove Expense\")\n",
    "        print(\"5. Save Expenses\")\n",
    "        print(\"6. Load Expenses\")\n",
    "        print(\"7. Exit\")\n",
    "        option = input(\"Choose an option: \")\n",
    "        if option == \"1\":\n",
    "            tracker.add_expense()\n",
    "        elif option == \"2\":\n",
    "            tracker.display_summary()\n",
    "        elif option == \"3\":\n",
    "            tracker.display_expenses_by_date()\n",
    "        elif option == \"4\":\n",
    "            tracker.remove_expense()\n",
    "        elif option == \"5\":\n",
    "            tracker.save_expenses()\n",
    "        elif option == \"6\":\n",
    "            tracker.load_expenses()\n",
    "        elif option == \"7\":\n",
    "            print(\"Exiting expense tracker.\")\n",
    "            break\n",
    "        else:\n",
    "            print(\"Invalid option. Please choose again.\")\n",
    "\n",
    "if __name__ == \"__main__\":\n",
    "    main()"
   ]
  },
  {
   "cell_type": "code",
   "execution_count": null,
   "id": "8d3c2447-0ba3-4504-a928-7cc24158f5fb",
   "metadata": {},
   "outputs": [],
   "source": []
  }
 ],
 "metadata": {
  "kernelspec": {
   "display_name": "Python 3 (ipykernel)",
   "language": "python",
   "name": "python3"
  },
  "language_info": {
   "codemirror_mode": {
    "name": "ipython",
    "version": 3
   },
   "file_extension": ".py",
   "mimetype": "text/x-python",
   "name": "python",
   "nbconvert_exporter": "python",
   "pygments_lexer": "ipython3",
   "version": "3.11.7"
  },
  "widgets": {
   "application/vnd.jupyter.widget-state+json": {
    "state": {},
    "version_major": 2,
    "version_minor": 0
   }
  }
 },
 "nbformat": 4,
 "nbformat_minor": 5
}
